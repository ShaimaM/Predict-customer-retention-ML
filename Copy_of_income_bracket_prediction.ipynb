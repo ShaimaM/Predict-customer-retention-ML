{
  "nbformat": 4,
  "nbformat_minor": 0,
  "metadata": {
    "colab": {
      "name": "Copy of income_bracket_prediction.ipynb",
      "provenance": [],
      "collapsed_sections": [],
      "machine_shape": "hm",
      "include_colab_link": true
    },
    "kernelspec": {
      "display_name": "Python 3",
      "name": "python3"
    },
    "accelerator": "GPU"
  },
  "cells": [
    {
      "cell_type": "markdown",
      "metadata": {
        "id": "view-in-github",
        "colab_type": "text"
      },
      "source": [
        "<a href=\"https://colab.research.google.com/github/faro7ah/Predict-customer-retention-ML/blob/main/Copy_of_income_bracket_prediction.ipynb\" target=\"_parent\"><img src=\"https://colab.research.google.com/assets/colab-badge.svg\" alt=\"Open In Colab\"/></a>"
      ]
    },
    {
      "cell_type": "code",
      "metadata": {
        "colab": {
          "base_uri": "https://localhost:8080/"
        },
        "id": "QKf6oNw9A8km",
        "outputId": "81f3d507-6451-463b-b630-6cd209a60eff"
      },
      "source": [
        "%time\r\n",
        "gpu_info = !nvidia-smi\r\n",
        "gpu_info = '\\n'.join(gpu_info)\r\n",
        "if gpu_info.find('failed') >= 0:\r\n",
        "  print('Select the Runtime > \"Change runtime type\" menu to enable a GPU accelerator, ')\r\n",
        "  print('and then re-execute this cell.')\r\n",
        "else:\r\n",
        "  print(gpu_info)"
      ],
      "execution_count": 1,
      "outputs": [
        {
          "output_type": "stream",
          "text": [
            "CPU times: user 2 µs, sys: 1e+03 ns, total: 3 µs\n",
            "Wall time: 5.25 µs\n",
            "Sat Feb  6 17:20:24 2021       \n",
            "+-----------------------------------------------------------------------------+\n",
            "| NVIDIA-SMI 460.39       Driver Version: 418.67       CUDA Version: 10.1     |\n",
            "|-------------------------------+----------------------+----------------------+\n",
            "| GPU  Name        Persistence-M| Bus-Id        Disp.A | Volatile Uncorr. ECC |\n",
            "| Fan  Temp  Perf  Pwr:Usage/Cap|         Memory-Usage | GPU-Util  Compute M. |\n",
            "|                               |                      |               MIG M. |\n",
            "|===============================+======================+======================|\n",
            "|   0  Tesla V100-SXM2...  Off  | 00000000:00:04.0 Off |                    0 |\n",
            "| N/A   42C    P0    25W / 300W |      0MiB / 16130MiB |      0%      Default |\n",
            "|                               |                      |                 ERR! |\n",
            "+-------------------------------+----------------------+----------------------+\n",
            "                                                                               \n",
            "+-----------------------------------------------------------------------------+\n",
            "| Processes:                                                                  |\n",
            "|  GPU   GI   CI        PID   Type   Process name                  GPU Memory |\n",
            "|        ID   ID                                                   Usage      |\n",
            "|=============================================================================|\n",
            "|  No running processes found                                                 |\n",
            "+-----------------------------------------------------------------------------+\n"
          ],
          "name": "stdout"
        }
      ]
    },
    {
      "cell_type": "code",
      "metadata": {
        "colab": {
          "base_uri": "https://localhost:8080/"
        },
        "id": "e-gidxfEA9oC",
        "outputId": "34bdd420-b956-4d8c-e568-e2a0684096ac"
      },
      "source": [
        "from psutil import virtual_memory\r\n",
        "ram_gb = virtual_memory().total / 1e9\r\n",
        "print('Your runtime has {:.1f} gigabytes of available RAM\\n'.format(ram_gb))\r\n",
        "\r\n",
        "if ram_gb < 20:\r\n",
        "  print('To enable a high-RAM runtime, select the Runtime > \"Change runtime type\"')\r\n",
        "  print('menu, and then select High-RAM in the Runtime shape dropdown. Then, ')\r\n",
        "  print('re-execute this cell.')\r\n",
        "else:\r\n",
        "  print('You are using a high-RAM runtime!')"
      ],
      "execution_count": 2,
      "outputs": [
        {
          "output_type": "stream",
          "text": [
            "Your runtime has 27.4 gigabytes of available RAM\n",
            "\n",
            "You are using a high-RAM runtime!\n"
          ],
          "name": "stdout"
        }
      ]
    },
    {
      "cell_type": "code",
      "metadata": {
        "id": "gFoiNZBsxRa7",
        "colab": {
          "base_uri": "https://localhost:8080/"
        },
        "outputId": "2db80e03-4dc7-4be0-a9a9-0b4bd2942619"
      },
      "source": [
        "import pandas as pd\r\n",
        "import numpy as np\r\n",
        "from sklearn.metrics import mean_squared_error\r\n",
        "import seaborn as sns\r\n",
        "import matplotlib.pyplot as plt\r\n",
        "from sklearn.metrics import*\r\n",
        "from sklearn.linear_model import LogisticRegression\r\n",
        "from sklearn.model_selection import GridSearchCV\r\n",
        "from sklearn.metrics import plot_confusion_matrix\r\n",
        "from sklearn.metrics import accuracy_score\r\n",
        "from sklearn import model_selection\r\n",
        "import statsmodels.api as sms;\r\n"
      ],
      "execution_count": 3,
      "outputs": [
        {
          "output_type": "stream",
          "text": [
            "/usr/local/lib/python3.6/dist-packages/statsmodels/tools/_testing.py:19: FutureWarning: pandas.util.testing is deprecated. Use the functions in the public API at pandas.testing instead.\n",
            "  import pandas.util.testing as tm\n"
          ],
          "name": "stderr"
        }
      ]
    },
    {
      "cell_type": "code",
      "metadata": {
        "id": "Y6m0KQYBxYC1"
      },
      "source": [
        "# Starter Code --DO NOT ADJUST--\r\n",
        "col_names = [\"age\", \"workclass\", \"fnlwgt\", \"education\", \"education_num\", \"marital_status\", \"ooccupation\", \"relationship\", \"race\", \"sex\", \"capital_gain\", \"capital_loss\", \"hours_per_week\", \"native_country\", \"target\"]\r\n",
        "training = pd.read_csv(\"https://archive.ics.uci.edu/ml/machine-learning-databases/adult/adult.data\", names=col_names).drop(\"race\", axis=1)\r\n",
        "test = pd.read_csv(\"https://archive.ics.uci.edu/ml/machine-learning-databases/adult/adult.test\", names=col_names, skiprows=1).drop(\"race\", axis=1)\r\n",
        "\r\n",
        "\r\n",
        "training[\"target\"] = training[\"target\"].apply(lambda x: x.strip())\r\n",
        "test[\"target\"] = test[\"target\"].apply(lambda x: x.strip()[:-1])\r\n",
        "\r\n",
        "\r\n",
        "# Create Train\r\n",
        "X_train = training.drop(\"target\", axis=1)\r\n",
        "y_train = training[\"target\"]\r\n",
        "\r\n",
        "# Create Test\r\n",
        "X_test = test.drop(\"target\", axis=1)\r\n",
        "y_test = test[\"target\"]"
      ],
      "execution_count": 4,
      "outputs": []
    },
    {
      "cell_type": "markdown",
      "metadata": {
        "id": "GaHFKkV2xyyn"
      },
      "source": [
        "1. EDA\r\n",
        "   - **What is this data?**\r\n",
        "- It is about  Predict-customer-retention-ML.\r\n",
        "-Predict whether income exceeds $50K/yr based on census data.\r\n",
        "\r\n"
      ]
    },
    {
      "cell_type": "code",
      "metadata": {
        "colab": {
          "base_uri": "https://localhost:8080/",
          "height": 254
        },
        "id": "j8gkFbYqx1pI",
        "outputId": "95430d59-a7e3-4051-e517-633c5bc8325c"
      },
      "source": [
        "training.sample(5)"
      ],
      "execution_count": 5,
      "outputs": [
        {
          "output_type": "execute_result",
          "data": {
            "text/html": [
              "<div>\n",
              "<style scoped>\n",
              "    .dataframe tbody tr th:only-of-type {\n",
              "        vertical-align: middle;\n",
              "    }\n",
              "\n",
              "    .dataframe tbody tr th {\n",
              "        vertical-align: top;\n",
              "    }\n",
              "\n",
              "    .dataframe thead th {\n",
              "        text-align: right;\n",
              "    }\n",
              "</style>\n",
              "<table border=\"1\" class=\"dataframe\">\n",
              "  <thead>\n",
              "    <tr style=\"text-align: right;\">\n",
              "      <th></th>\n",
              "      <th>age</th>\n",
              "      <th>workclass</th>\n",
              "      <th>fnlwgt</th>\n",
              "      <th>education</th>\n",
              "      <th>education_num</th>\n",
              "      <th>marital_status</th>\n",
              "      <th>ooccupation</th>\n",
              "      <th>relationship</th>\n",
              "      <th>sex</th>\n",
              "      <th>capital_gain</th>\n",
              "      <th>capital_loss</th>\n",
              "      <th>hours_per_week</th>\n",
              "      <th>native_country</th>\n",
              "      <th>target</th>\n",
              "    </tr>\n",
              "  </thead>\n",
              "  <tbody>\n",
              "    <tr>\n",
              "      <th>19265</th>\n",
              "      <td>37</td>\n",
              "      <td>Private</td>\n",
              "      <td>212512</td>\n",
              "      <td>HS-grad</td>\n",
              "      <td>9</td>\n",
              "      <td>Married-civ-spouse</td>\n",
              "      <td>Machine-op-inspct</td>\n",
              "      <td>Husband</td>\n",
              "      <td>Male</td>\n",
              "      <td>3464</td>\n",
              "      <td>0</td>\n",
              "      <td>50</td>\n",
              "      <td>United-States</td>\n",
              "      <td>&lt;=50K</td>\n",
              "    </tr>\n",
              "    <tr>\n",
              "      <th>7841</th>\n",
              "      <td>28</td>\n",
              "      <td>Private</td>\n",
              "      <td>122922</td>\n",
              "      <td>HS-grad</td>\n",
              "      <td>9</td>\n",
              "      <td>Never-married</td>\n",
              "      <td>Exec-managerial</td>\n",
              "      <td>Not-in-family</td>\n",
              "      <td>Female</td>\n",
              "      <td>0</td>\n",
              "      <td>0</td>\n",
              "      <td>50</td>\n",
              "      <td>United-States</td>\n",
              "      <td>&lt;=50K</td>\n",
              "    </tr>\n",
              "    <tr>\n",
              "      <th>3710</th>\n",
              "      <td>27</td>\n",
              "      <td>Private</td>\n",
              "      <td>406662</td>\n",
              "      <td>HS-grad</td>\n",
              "      <td>9</td>\n",
              "      <td>Never-married</td>\n",
              "      <td>Adm-clerical</td>\n",
              "      <td>Not-in-family</td>\n",
              "      <td>Male</td>\n",
              "      <td>4416</td>\n",
              "      <td>0</td>\n",
              "      <td>40</td>\n",
              "      <td>United-States</td>\n",
              "      <td>&lt;=50K</td>\n",
              "    </tr>\n",
              "    <tr>\n",
              "      <th>25812</th>\n",
              "      <td>64</td>\n",
              "      <td>Private</td>\n",
              "      <td>169482</td>\n",
              "      <td>Some-college</td>\n",
              "      <td>10</td>\n",
              "      <td>Married-spouse-absent</td>\n",
              "      <td>Exec-managerial</td>\n",
              "      <td>Unmarried</td>\n",
              "      <td>Female</td>\n",
              "      <td>0</td>\n",
              "      <td>0</td>\n",
              "      <td>40</td>\n",
              "      <td>United-States</td>\n",
              "      <td>&lt;=50K</td>\n",
              "    </tr>\n",
              "    <tr>\n",
              "      <th>1738</th>\n",
              "      <td>45</td>\n",
              "      <td>Private</td>\n",
              "      <td>182655</td>\n",
              "      <td>Bachelors</td>\n",
              "      <td>13</td>\n",
              "      <td>Divorced</td>\n",
              "      <td>Other-service</td>\n",
              "      <td>Not-in-family</td>\n",
              "      <td>Male</td>\n",
              "      <td>0</td>\n",
              "      <td>0</td>\n",
              "      <td>45</td>\n",
              "      <td>?</td>\n",
              "      <td>&gt;50K</td>\n",
              "    </tr>\n",
              "  </tbody>\n",
              "</table>\n",
              "</div>"
            ],
            "text/plain": [
              "       age workclass  fnlwgt  ... hours_per_week  native_country target\n",
              "19265   37   Private  212512  ...             50   United-States  <=50K\n",
              "7841    28   Private  122922  ...             50   United-States  <=50K\n",
              "3710    27   Private  406662  ...             40   United-States  <=50K\n",
              "25812   64   Private  169482  ...             40   United-States  <=50K\n",
              "1738    45   Private  182655  ...             45               ?   >50K\n",
              "\n",
              "[5 rows x 14 columns]"
            ]
          },
          "metadata": {
            "tags": []
          },
          "execution_count": 5
        }
      ]
    },
    {
      "cell_type": "code",
      "metadata": {
        "colab": {
          "base_uri": "https://localhost:8080/",
          "height": 294
        },
        "id": "DItpyxwU0jom",
        "outputId": "7cd66891-867d-4a0a-b7fd-51ca51cee73a"
      },
      "source": [
        "training.describe()"
      ],
      "execution_count": 6,
      "outputs": [
        {
          "output_type": "execute_result",
          "data": {
            "text/html": [
              "<div>\n",
              "<style scoped>\n",
              "    .dataframe tbody tr th:only-of-type {\n",
              "        vertical-align: middle;\n",
              "    }\n",
              "\n",
              "    .dataframe tbody tr th {\n",
              "        vertical-align: top;\n",
              "    }\n",
              "\n",
              "    .dataframe thead th {\n",
              "        text-align: right;\n",
              "    }\n",
              "</style>\n",
              "<table border=\"1\" class=\"dataframe\">\n",
              "  <thead>\n",
              "    <tr style=\"text-align: right;\">\n",
              "      <th></th>\n",
              "      <th>age</th>\n",
              "      <th>fnlwgt</th>\n",
              "      <th>education_num</th>\n",
              "      <th>capital_gain</th>\n",
              "      <th>capital_loss</th>\n",
              "      <th>hours_per_week</th>\n",
              "    </tr>\n",
              "  </thead>\n",
              "  <tbody>\n",
              "    <tr>\n",
              "      <th>count</th>\n",
              "      <td>32561.000000</td>\n",
              "      <td>3.256100e+04</td>\n",
              "      <td>32561.000000</td>\n",
              "      <td>32561.000000</td>\n",
              "      <td>32561.000000</td>\n",
              "      <td>32561.000000</td>\n",
              "    </tr>\n",
              "    <tr>\n",
              "      <th>mean</th>\n",
              "      <td>38.581647</td>\n",
              "      <td>1.897784e+05</td>\n",
              "      <td>10.080679</td>\n",
              "      <td>1077.648844</td>\n",
              "      <td>87.303830</td>\n",
              "      <td>40.437456</td>\n",
              "    </tr>\n",
              "    <tr>\n",
              "      <th>std</th>\n",
              "      <td>13.640433</td>\n",
              "      <td>1.055500e+05</td>\n",
              "      <td>2.572720</td>\n",
              "      <td>7385.292085</td>\n",
              "      <td>402.960219</td>\n",
              "      <td>12.347429</td>\n",
              "    </tr>\n",
              "    <tr>\n",
              "      <th>min</th>\n",
              "      <td>17.000000</td>\n",
              "      <td>1.228500e+04</td>\n",
              "      <td>1.000000</td>\n",
              "      <td>0.000000</td>\n",
              "      <td>0.000000</td>\n",
              "      <td>1.000000</td>\n",
              "    </tr>\n",
              "    <tr>\n",
              "      <th>25%</th>\n",
              "      <td>28.000000</td>\n",
              "      <td>1.178270e+05</td>\n",
              "      <td>9.000000</td>\n",
              "      <td>0.000000</td>\n",
              "      <td>0.000000</td>\n",
              "      <td>40.000000</td>\n",
              "    </tr>\n",
              "    <tr>\n",
              "      <th>50%</th>\n",
              "      <td>37.000000</td>\n",
              "      <td>1.783560e+05</td>\n",
              "      <td>10.000000</td>\n",
              "      <td>0.000000</td>\n",
              "      <td>0.000000</td>\n",
              "      <td>40.000000</td>\n",
              "    </tr>\n",
              "    <tr>\n",
              "      <th>75%</th>\n",
              "      <td>48.000000</td>\n",
              "      <td>2.370510e+05</td>\n",
              "      <td>12.000000</td>\n",
              "      <td>0.000000</td>\n",
              "      <td>0.000000</td>\n",
              "      <td>45.000000</td>\n",
              "    </tr>\n",
              "    <tr>\n",
              "      <th>max</th>\n",
              "      <td>90.000000</td>\n",
              "      <td>1.484705e+06</td>\n",
              "      <td>16.000000</td>\n",
              "      <td>99999.000000</td>\n",
              "      <td>4356.000000</td>\n",
              "      <td>99.000000</td>\n",
              "    </tr>\n",
              "  </tbody>\n",
              "</table>\n",
              "</div>"
            ],
            "text/plain": [
              "                age        fnlwgt  ...  capital_loss  hours_per_week\n",
              "count  32561.000000  3.256100e+04  ...  32561.000000    32561.000000\n",
              "mean      38.581647  1.897784e+05  ...     87.303830       40.437456\n",
              "std       13.640433  1.055500e+05  ...    402.960219       12.347429\n",
              "min       17.000000  1.228500e+04  ...      0.000000        1.000000\n",
              "25%       28.000000  1.178270e+05  ...      0.000000       40.000000\n",
              "50%       37.000000  1.783560e+05  ...      0.000000       40.000000\n",
              "75%       48.000000  2.370510e+05  ...      0.000000       45.000000\n",
              "max       90.000000  1.484705e+06  ...   4356.000000       99.000000\n",
              "\n",
              "[8 rows x 6 columns]"
            ]
          },
          "metadata": {
            "tags": []
          },
          "execution_count": 6
        }
      ]
    },
    {
      "cell_type": "markdown",
      "metadata": {
        "id": "CasTNoOOmWIb"
      },
      "source": [
        "\r\n",
        "## Visualization the Data:"
      ]
    },
    {
      "cell_type": "markdown",
      "metadata": {
        "id": "EAcFNBNZmQ9Y"
      },
      "source": [
        "Visualize the `target` column based on Occupation"
      ]
    },
    {
      "cell_type": "code",
      "metadata": {
        "id": "g9Du8NYgmGzg",
        "colab": {
          "base_uri": "https://localhost:8080/",
          "height": 658
        },
        "outputId": "38114e9b-b7e0-423a-acd6-bfb593f61980"
      },
      "source": [
        "# select color\r\n",
        "sns.set_palette('pastel')\r\n",
        "# deterimne figure size\r\n",
        "fig = plt.figure(figsize = (18,8))\r\n",
        "ax=sns.countplot(training['ooccupation'], hue=training['target'])\r\n",
        "# title\r\n",
        "ax.set_title('Occupation vs Income', size=20)\r\n",
        "plt.xlabel(\"Occupation\",fontsize = 10)\r\n",
        "plt.xticks(rotation=90)\r\n",
        "plt.ylabel('Count');"
      ],
      "execution_count": 7,
      "outputs": [
        {
          "output_type": "stream",
          "text": [
            "/usr/local/lib/python3.6/dist-packages/seaborn/_decorators.py:43: FutureWarning: Pass the following variable as a keyword arg: x. From version 0.12, the only valid positional argument will be `data`, and passing other arguments without an explicit keyword will result in an error or misinterpretation.\n",
            "  FutureWarning\n"
          ],
          "name": "stderr"
        },
        {
          "output_type": "display_data",
          "data": {
            "image/png": "[encoded data removed]",
            "text/plain": [
              "<Figure size 1296x576 with 1 Axes>"
            ]
          },
          "metadata": {
            "tags": [],
            "needs_background": "light"
          }
        }
      ]
    },
    {
      "cell_type": "markdown",
      "metadata": {
        "id": "R1kL75JOmlE1"
      },
      "source": [
        "Visualize `age` column as a groups "
      ]
    },
    {
      "cell_type": "code",
      "metadata": {
        "id": "nYvNP_YbmeHj",
        "colab": {
          "base_uri": "https://localhost:8080/",
          "height": 427
        },
        "outputId": "9e7689f2-d7a2-469c-fbdd-b89d6f6a1607"
      },
      "source": [
        "# select color\r\n",
        "sns.set_palette('pastel')\r\n",
        "# split age column into groups\r\n",
        "age1 = training.loc[training.age <= 18].age.count()\r\n",
        "age2 = training.loc[((training.age > 19)&(training.age <= 36))].age.count()\r\n",
        "age3 = training.loc[((training.age > 37)&(training.age <= 54))].age.count()\r\n",
        "age4 = training.loc[((training.age > 55)&(training.age <= 72))].age.count()\r\n",
        "Age_list = [age1 , age2  , age3 , age4]\r\n",
        "# deterimne figure size\r\n",
        "plt.figure(figsize=[7,7])\r\n",
        "plt.pie(Age_list, explode=[0.3,0,0,0], labels=['0-18 Years', '19-36 Years', '37-54 Years', '55 & Above' ] ,\r\n",
        "        autopct='%1.1f%%',\r\n",
        "              wedgeprops = {\"edgecolor\" : \"black\",\r\n",
        "                      'linewidth': 1, \r\n",
        "                      'antialiased': True})\r\n",
        "# title\r\n",
        "plt.title(\"The Percentage of Age Groups\");"
      ],
      "execution_count": 8,
      "outputs": [
        {
          "output_type": "display_data",
          "data": {
            "image/png": "[encoded data removed]",
            "text/plain": [
              "<Figure size 504x504 with 1 Axes>"
            ]
          },
          "metadata": {
            "tags": []
          }
        }
      ]
    },
    {
      "cell_type": "markdown",
      "metadata": {
        "id": "b_I2-oJmmnKK"
      },
      "source": [
        "Visualize number of stages of education by gender"
      ]
    },
    {
      "cell_type": "code",
      "metadata": {
        "id": "MyF8APFFnE-D",
        "colab": {
          "base_uri": "https://localhost:8080/",
          "height": 572
        },
        "outputId": "90e83b9e-27f7-4fe0-f620-4ac0547f48ba"
      },
      "source": [
        "# select color\r\n",
        "sns.set_palette('pastel')\r\n",
        "# deterimne figure size\r\n",
        "plt.figure(figsize=(17, 9))\r\n",
        "sns.countplot(y='education', hue='sex', data=training )\r\n",
        "plt.title(\"Stages of Education by Gender\", size=20);"
      ],
      "execution_count": 9,
      "outputs": [
        {
          "output_type": "display_data",
          "data": {
            "image/png": "[encoded data removed]",
            "text/plain": [
              "<Figure size 1224x648 with 1 Axes>"
            ]
          },
          "metadata": {
            "tags": [],
            "needs_background": "light"
          }
        }
      ]
    },
    {
      "cell_type": "markdown",
      "metadata": {
        "id": "U8UVvhClnsOI"
      },
      "source": [
        "Visualize the relationship between `workclass` and `hours_per_week`"
      ]
    },
    {
      "cell_type": "code",
      "metadata": {
        "id": "NjGKrUibnrfX",
        "colab": {
          "base_uri": "https://localhost:8080/",
          "height": 679
        },
        "outputId": "e94dc442-e4b6-4378-e1e4-63e2ea6a3a25"
      },
      "source": [
        "sns.set_palette('Set3')\r\n",
        "g =sns.catplot(x = \"workclass\",y = \"hours_per_week\",data=training)\r\n",
        "# deterimne figureheight and figurewidth size\r\n",
        "g.fig.set_figheight(8)\r\n",
        "g.fig.set_figwidth(10)\r\n",
        "# title\r\n",
        "plt.title( \"The relationship between Workclass and Hours per Week\") \r\n",
        "plt.xticks(\r\n",
        "    rotation=45, \r\n",
        "    horizontalalignment='right',\r\n",
        "    fontweight='light',\r\n",
        "    fontsize='x-large');"
      ],
      "execution_count": 10,
      "outputs": [
        {
          "output_type": "display_data",
          "data": {
            "image/png": "[encoded data removed]",
            "text/plain": [
              "<Figure size 720x576 with 1 Axes>"
            ]
          },
          "metadata": {
            "tags": [],
            "needs_background": "light"
          }
        }
      ]
    },
    {
      "cell_type": "markdown",
      "metadata": {
        "id": "6mtHBE09n1_O"
      },
      "source": [
        "Visulaize the unique values in `relationship` column"
      ]
    },
    {
      "cell_type": "code",
      "metadata": {
        "id": "5Dj0lDhgnvuc",
        "colab": {
          "base_uri": "https://localhost:8080/",
          "height": 427
        },
        "outputId": "1b4b0239-f5f9-4f4b-dd1c-f662c7181a04"
      },
      "source": [
        "# select color\r\n",
        "sns.set_palette('pastel')\r\n",
        "# deterimne figure size\r\n",
        "plt.figure(figsize=(7,7));\r\n",
        "labels = ['Not-in-family', 'Husband', 'Wife', 'Own-child',\r\n",
        "          'Unmarried', 'Other-relative']\r\n",
        "plt.pie(training.relationship.value_counts(), autopct='%1.1f%%' ,\r\n",
        "        wedgeprops = {\"edgecolor\" : \"white\", \r\n",
        "                      'linewidth': 2, \r\n",
        "                      'antialiased': True})\r\n",
        "# title\r\n",
        "plt.title(\"The Percentage of Relationship\")\r\n",
        "plt.legend(labels, loc ='lower left');"
      ],
      "execution_count": 11,
      "outputs": [
        {
          "output_type": "display_data",
          "data": {
            "image/png": "[encoded data removed]",
            "text/plain": [
              "<Figure size 504x504 with 1 Axes>"
            ]
          },
          "metadata": {
            "tags": []
          }
        }
      ]
    },
    {
      "cell_type": "markdown",
      "metadata": {
        "id": "vGnyUwenoAZ4"
      },
      "source": [
        "Visualize the relationship between `education_num` and `target`"
      ]
    },
    {
      "cell_type": "code",
      "metadata": {
        "id": "7JqE9BfFn6al",
        "colab": {
          "base_uri": "https://localhost:8080/",
          "height": 350
        },
        "outputId": "5ea96dcd-403f-4a20-8c80-df574e426ac8"
      },
      "source": [
        "# deterimne figure size\r\n",
        "plt.figure(figsize=(7,5))\r\n",
        "sns.barplot(y='education_num', x='target', data=training)\r\n",
        "# title\r\n",
        "plt.title('Education vs Income');"
      ],
      "execution_count": 12,
      "outputs": [
        {
          "output_type": "display_data",
          "data": {
            "image/png": "[encoded data removed]",
            "text/plain": [
              "<Figure size 504x360 with 1 Axes>"
            ]
          },
          "metadata": {
            "tags": [],
            "needs_background": "light"
          }
        }
      ]
    },
    {
      "cell_type": "markdown",
      "metadata": {
        "id": "bcdK1XtUx6sE"
      },
      "source": [
        "## 2. Data prep & `train_test_split()`\r\n",
        "    "
      ]
    },
    {
      "cell_type": "markdown",
      "metadata": {
        "id": "4_txbh3_0zhH"
      },
      "source": [
        "Check if there is any missing values"
      ]
    },
    {
      "cell_type": "code",
      "metadata": {
        "colab": {
          "base_uri": "https://localhost:8080/"
        },
        "id": "9LmLV2NSyTLd",
        "outputId": "f64ee145-bdbd-4ee4-90ad-584832f9927e"
      },
      "source": [
        "training.isnull().sum()"
      ],
      "execution_count": 13,
      "outputs": [
        {
          "output_type": "execute_result",
          "data": {
            "text/plain": [
              "age               0\n",
              "workclass         0\n",
              "fnlwgt            0\n",
              "education         0\n",
              "education_num     0\n",
              "marital_status    0\n",
              "ooccupation       0\n",
              "relationship      0\n",
              "sex               0\n",
              "capital_gain      0\n",
              "capital_loss      0\n",
              "hours_per_week    0\n",
              "native_country    0\n",
              "target            0\n",
              "dtype: int64"
            ]
          },
          "metadata": {
            "tags": []
          },
          "execution_count": 13
        }
      ]
    },
    {
      "cell_type": "markdown",
      "metadata": {
        "id": "2y0I4w481GB3"
      },
      "source": [
        "Remove Abnprmal values from `native_country` column"
      ]
    },
    {
      "cell_type": "code",
      "metadata": {
        "id": "YVDEWU6E0ycx"
      },
      "source": [
        "training.drop(training.loc[training['native_country']==' ?'].index, inplace=True)"
      ],
      "execution_count": 14,
      "outputs": []
    },
    {
      "cell_type": "markdown",
      "metadata": {
        "id": "C4DERKsP1Vy7"
      },
      "source": [
        "Convert `target` column from categorical to int"
      ]
    },
    {
      "cell_type": "code",
      "metadata": {
        "colab": {
          "base_uri": "https://localhost:8080/"
        },
        "id": "Cm2DZKOg0yN5",
        "outputId": "74f418b9-4324-4073-f4d5-50ea539f329f"
      },
      "source": [
        "training['target']= training['target'].map({'<=50K':1, '>50K':0}).astype(int)\r\n",
        "training.target"
      ],
      "execution_count": 15,
      "outputs": [
        {
          "output_type": "execute_result",
          "data": {
            "text/plain": [
              "0        1\n",
              "1        1\n",
              "2        1\n",
              "3        1\n",
              "4        1\n",
              "        ..\n",
              "32556    1\n",
              "32557    0\n",
              "32558    1\n",
              "32559    1\n",
              "32560    0\n",
              "Name: target, Length: 31978, dtype: int64"
            ]
          },
          "metadata": {
            "tags": []
          },
          "execution_count": 15
        }
      ]
    },
    {
      "cell_type": "markdown",
      "metadata": {
        "id": "JnzzRQuy1pi1"
      },
      "source": [
        "Display categorical columns"
      ]
    },
    {
      "cell_type": "code",
      "metadata": {
        "colab": {
          "base_uri": "https://localhost:8080/"
        },
        "id": "LKMAowr90yLS",
        "outputId": "7b49d886-9e61-490a-9d0e-7ba1596bcfb5"
      },
      "source": [
        "cat_col = [col for col in training.columns if training[col].dtype=='O']\r\n",
        "cat_col"
      ],
      "execution_count": 16,
      "outputs": [
        {
          "output_type": "execute_result",
          "data": {
            "text/plain": [
              "['workclass',\n",
              " 'education',\n",
              " 'marital_status',\n",
              " 'ooccupation',\n",
              " 'relationship',\n",
              " 'sex',\n",
              " 'native_country']"
            ]
          },
          "metadata": {
            "tags": []
          },
          "execution_count": 16
        }
      ]
    },
    {
      "cell_type": "markdown",
      "metadata": {
        "id": "OUOe_LeT4vyw"
      },
      "source": [
        "Convert `sex` column from categorical to int"
      ]
    },
    {
      "cell_type": "code",
      "metadata": {
        "id": "5XIq7Zug4wny"
      },
      "source": [
        "training['sex'] = training['sex'].map({' Male':0, ' Female':1}).astype(int)"
      ],
      "execution_count": 17,
      "outputs": []
    },
    {
      "cell_type": "markdown",
      "metadata": {
        "id": "B2kaOgn-gaik"
      },
      "source": [
        "Save object columns in variable"
      ]
    },
    {
      "cell_type": "code",
      "metadata": {
        "id": "YIMquuzb0yGf"
      },
      "source": [
        "categorical = training[cat_col]"
      ],
      "execution_count": 18,
      "outputs": []
    },
    {
      "cell_type": "markdown",
      "metadata": {
        "id": "UpEVFGdVghwl"
      },
      "source": [
        "Convert categorical columns into dummy/ indictor variables"
      ]
    },
    {
      "cell_type": "code",
      "metadata": {
        "id": "611EHK4e0yFJ"
      },
      "source": [
        "categorical_dum = pd.get_dummies(categorical)"
      ],
      "execution_count": 19,
      "outputs": []
    },
    {
      "cell_type": "markdown",
      "metadata": {
        "id": "Z_dSaJRm2xGU"
      },
      "source": [
        "Concat new datafame with training dataset"
      ]
    },
    {
      "cell_type": "code",
      "metadata": {
        "colab": {
          "base_uri": "https://localhost:8080/",
          "height": 609
        },
        "id": "cU9LNS2f2JNv",
        "outputId": "07d1af27-3620-4a8a-dc2b-7a176bfc392e"
      },
      "source": [
        "df_new = pd.concat(\r\n",
        "    [training,\r\n",
        "     categorical_dum],\r\n",
        "      axis=1)\r\n",
        "df_new"
      ],
      "execution_count": 20,
      "outputs": [
        {
          "output_type": "execute_result",
          "data": {
            "text/html": [
              "<div>\n",
              "<style scoped>\n",
              "    .dataframe tbody tr th:only-of-type {\n",
              "        vertical-align: middle;\n",
              "    }\n",
              "\n",
              "    .dataframe tbody tr th {\n",
              "        vertical-align: top;\n",
              "    }\n",
              "\n",
              "    .dataframe thead th {\n",
              "        text-align: right;\n",
              "    }\n",
              "</style>\n",
              "<table border=\"1\" class=\"dataframe\">\n",
              "  <thead>\n",
              "    <tr style=\"text-align: right;\">\n",
              "      <th></th>\n",
              "      <th>age</th>\n",
              "      <th>workclass</th>\n",
              "      <th>fnlwgt</th>\n",
              "      <th>education</th>\n",
              "      <th>education_num</th>\n",
              "      <th>marital_status</th>\n",
              "      <th>ooccupation</th>\n",
              "      <th>relationship</th>\n",
              "      <th>sex</th>\n",
              "      <th>capital_gain</th>\n",
              "      <th>capital_loss</th>\n",
              "      <th>hours_per_week</th>\n",
              "      <th>native_country</th>\n",
              "      <th>target</th>\n",
              "      <th>sex</th>\n",
              "      <th>workclass_ ?</th>\n",
              "      <th>workclass_ Federal-gov</th>\n",
              "      <th>workclass_ Local-gov</th>\n",
              "      <th>workclass_ Never-worked</th>\n",
              "      <th>workclass_ Private</th>\n",
              "      <th>workclass_ Self-emp-inc</th>\n",
              "      <th>workclass_ Self-emp-not-inc</th>\n",
              "      <th>workclass_ State-gov</th>\n",
              "      <th>workclass_ Without-pay</th>\n",
              "      <th>education_ 10th</th>\n",
              "      <th>education_ 11th</th>\n",
              "      <th>education_ 12th</th>\n",
              "      <th>education_ 1st-4th</th>\n",
              "      <th>education_ 5th-6th</th>\n",
              "      <th>education_ 7th-8th</th>\n",
              "      <th>education_ 9th</th>\n",
              "      <th>education_ Assoc-acdm</th>\n",
              "      <th>education_ Assoc-voc</th>\n",
              "      <th>education_ Bachelors</th>\n",
              "      <th>education_ Doctorate</th>\n",
              "      <th>education_ HS-grad</th>\n",
              "      <th>education_ Masters</th>\n",
              "      <th>education_ Preschool</th>\n",
              "      <th>education_ Prof-school</th>\n",
              "      <th>education_ Some-college</th>\n",
              "      <th>...</th>\n",
              "      <th>native_country_ Canada</th>\n",
              "      <th>native_country_ China</th>\n",
              "      <th>native_country_ Columbia</th>\n",
              "      <th>native_country_ Cuba</th>\n",
              "      <th>native_country_ Dominican-Republic</th>\n",
              "      <th>native_country_ Ecuador</th>\n",
              "      <th>native_country_ El-Salvador</th>\n",
              "      <th>native_country_ England</th>\n",
              "      <th>native_country_ France</th>\n",
              "      <th>native_country_ Germany</th>\n",
              "      <th>native_country_ Greece</th>\n",
              "      <th>native_country_ Guatemala</th>\n",
              "      <th>native_country_ Haiti</th>\n",
              "      <th>native_country_ Holand-Netherlands</th>\n",
              "      <th>native_country_ Honduras</th>\n",
              "      <th>native_country_ Hong</th>\n",
              "      <th>native_country_ Hungary</th>\n",
              "      <th>native_country_ India</th>\n",
              "      <th>native_country_ Iran</th>\n",
              "      <th>native_country_ Ireland</th>\n",
              "      <th>native_country_ Italy</th>\n",
              "      <th>native_country_ Jamaica</th>\n",
              "      <th>native_country_ Japan</th>\n",
              "      <th>native_country_ Laos</th>\n",
              "      <th>native_country_ Mexico</th>\n",
              "      <th>native_country_ Nicaragua</th>\n",
              "      <th>native_country_ Outlying-US(Guam-USVI-etc)</th>\n",
              "      <th>native_country_ Peru</th>\n",
              "      <th>native_country_ Philippines</th>\n",
              "      <th>native_country_ Poland</th>\n",
              "      <th>native_country_ Portugal</th>\n",
              "      <th>native_country_ Puerto-Rico</th>\n",
              "      <th>native_country_ Scotland</th>\n",
              "      <th>native_country_ South</th>\n",
              "      <th>native_country_ Taiwan</th>\n",
              "      <th>native_country_ Thailand</th>\n",
              "      <th>native_country_ Trinadad&amp;Tobago</th>\n",
              "      <th>native_country_ United-States</th>\n",
              "      <th>native_country_ Vietnam</th>\n",
              "      <th>native_country_ Yugoslavia</th>\n",
              "    </tr>\n",
              "  </thead>\n",
              "  <tbody>\n",
              "    <tr>\n",
              "      <th>0</th>\n",
              "      <td>39</td>\n",
              "      <td>State-gov</td>\n",
              "      <td>77516</td>\n",
              "      <td>Bachelors</td>\n",
              "      <td>13</td>\n",
              "      <td>Never-married</td>\n",
              "      <td>Adm-clerical</td>\n",
              "      <td>Not-in-family</td>\n",
              "      <td>0</td>\n",
              "      <td>2174</td>\n",
              "      <td>0</td>\n",
              "      <td>40</td>\n",
              "      <td>United-States</td>\n",
              "      <td>1</td>\n",
              "      <td>0</td>\n",
              "      <td>0</td>\n",
              "      <td>0</td>\n",
              "      <td>0</td>\n",
              "      <td>0</td>\n",
              "      <td>0</td>\n",
              "      <td>0</td>\n",
              "      <td>0</td>\n",
              "      <td>1</td>\n",
              "      <td>0</td>\n",
              "      <td>0</td>\n",
              "      <td>0</td>\n",
              "      <td>0</td>\n",
              "      <td>0</td>\n",
              "      <td>0</td>\n",
              "      <td>0</td>\n",
              "      <td>0</td>\n",
              "      <td>0</td>\n",
              "      <td>0</td>\n",
              "      <td>1</td>\n",
              "      <td>0</td>\n",
              "      <td>0</td>\n",
              "      <td>0</td>\n",
              "      <td>0</td>\n",
              "      <td>0</td>\n",
              "      <td>0</td>\n",
              "      <td>...</td>\n",
              "      <td>0</td>\n",
              "      <td>0</td>\n",
              "      <td>0</td>\n",
              "      <td>0</td>\n",
              "      <td>0</td>\n",
              "      <td>0</td>\n",
              "      <td>0</td>\n",
              "      <td>0</td>\n",
              "      <td>0</td>\n",
              "      <td>0</td>\n",
              "      <td>0</td>\n",
              "      <td>0</td>\n",
              "      <td>0</td>\n",
              "      <td>0</td>\n",
              "      <td>0</td>\n",
              "      <td>0</td>\n",
              "      <td>0</td>\n",
              "      <td>0</td>\n",
              "      <td>0</td>\n",
              "      <td>0</td>\n",
              "      <td>0</td>\n",
              "      <td>0</td>\n",
              "      <td>0</td>\n",
              "      <td>0</td>\n",
              "      <td>0</td>\n",
              "      <td>0</td>\n",
              "      <td>0</td>\n",
              "      <td>0</td>\n",
              "      <td>0</td>\n",
              "      <td>0</td>\n",
              "      <td>0</td>\n",
              "      <td>0</td>\n",
              "      <td>0</td>\n",
              "      <td>0</td>\n",
              "      <td>0</td>\n",
              "      <td>0</td>\n",
              "      <td>0</td>\n",
              "      <td>1</td>\n",
              "      <td>0</td>\n",
              "      <td>0</td>\n",
              "    </tr>\n",
              "    <tr>\n",
              "      <th>1</th>\n",
              "      <td>50</td>\n",
              "      <td>Self-emp-not-inc</td>\n",
              "      <td>83311</td>\n",
              "      <td>Bachelors</td>\n",
              "      <td>13</td>\n",
              "      <td>Married-civ-spouse</td>\n",
              "      <td>Exec-managerial</td>\n",
              "      <td>Husband</td>\n",
              "      <td>0</td>\n",
              "      <td>0</td>\n",
              "      <td>0</td>\n",
              "      <td>13</td>\n",
              "      <td>United-States</td>\n",
              "      <td>1</td>\n",
              "      <td>0</td>\n",
              "      <td>0</td>\n",
              "      <td>0</td>\n",
              "      <td>0</td>\n",
              "      <td>0</td>\n",
              "      <td>0</td>\n",
              "      <td>0</td>\n",
              "      <td>1</td>\n",
              "      <td>0</td>\n",
              "      <td>0</td>\n",
              "      <td>0</td>\n",
              "      <td>0</td>\n",
              "      <td>0</td>\n",
              "      <td>0</td>\n",
              "      <td>0</td>\n",
              "      <td>0</td>\n",
              "      <td>0</td>\n",
              "      <td>0</td>\n",
              "      <td>0</td>\n",
              "      <td>1</td>\n",
              "      <td>0</td>\n",
              "      <td>0</td>\n",
              "      <td>0</td>\n",
              "      <td>0</td>\n",
              "      <td>0</td>\n",
              "      <td>0</td>\n",
              "      <td>...</td>\n",
              "      <td>0</td>\n",
              "      <td>0</td>\n",
              "      <td>0</td>\n",
              "      <td>0</td>\n",
              "      <td>0</td>\n",
              "      <td>0</td>\n",
              "      <td>0</td>\n",
              "      <td>0</td>\n",
              "      <td>0</td>\n",
              "      <td>0</td>\n",
              "      <td>0</td>\n",
              "      <td>0</td>\n",
              "      <td>0</td>\n",
              "      <td>0</td>\n",
              "      <td>0</td>\n",
              "      <td>0</td>\n",
              "      <td>0</td>\n",
              "      <td>0</td>\n",
              "      <td>0</td>\n",
              "      <td>0</td>\n",
              "      <td>0</td>\n",
              "      <td>0</td>\n",
              "      <td>0</td>\n",
              "      <td>0</td>\n",
              "      <td>0</td>\n",
              "      <td>0</td>\n",
              "      <td>0</td>\n",
              "      <td>0</td>\n",
              "      <td>0</td>\n",
              "      <td>0</td>\n",
              "      <td>0</td>\n",
              "      <td>0</td>\n",
              "      <td>0</td>\n",
              "      <td>0</td>\n",
              "      <td>0</td>\n",
              "      <td>0</td>\n",
              "      <td>0</td>\n",
              "      <td>1</td>\n",
              "      <td>0</td>\n",
              "      <td>0</td>\n",
              "    </tr>\n",
              "    <tr>\n",
              "      <th>2</th>\n",
              "      <td>38</td>\n",
              "      <td>Private</td>\n",
              "      <td>215646</td>\n",
              "      <td>HS-grad</td>\n",
              "      <td>9</td>\n",
              "      <td>Divorced</td>\n",
              "      <td>Handlers-cleaners</td>\n",
              "      <td>Not-in-family</td>\n",
              "      <td>0</td>\n",
              "      <td>0</td>\n",
              "      <td>0</td>\n",
              "      <td>40</td>\n",
              "      <td>United-States</td>\n",
              "      <td>1</td>\n",
              "      <td>0</td>\n",
              "      <td>0</td>\n",
              "      <td>0</td>\n",
              "      <td>0</td>\n",
              "      <td>0</td>\n",
              "      <td>1</td>\n",
              "      <td>0</td>\n",
              "      <td>0</td>\n",
              "      <td>0</td>\n",
              "      <td>0</td>\n",
              "      <td>0</td>\n",
              "      <td>0</td>\n",
              "      <td>0</td>\n",
              "      <td>0</td>\n",
              "      <td>0</td>\n",
              "      <td>0</td>\n",
              "      <td>0</td>\n",
              "      <td>0</td>\n",
              "      <td>0</td>\n",
              "      <td>0</td>\n",
              "      <td>0</td>\n",
              "      <td>1</td>\n",
              "      <td>0</td>\n",
              "      <td>0</td>\n",
              "      <td>0</td>\n",
              "      <td>0</td>\n",
              "      <td>...</td>\n",
              "      <td>0</td>\n",
              "      <td>0</td>\n",
              "      <td>0</td>\n",
              "      <td>0</td>\n",
              "      <td>0</td>\n",
              "      <td>0</td>\n",
              "      <td>0</td>\n",
              "      <td>0</td>\n",
              "      <td>0</td>\n",
              "      <td>0</td>\n",
              "      <td>0</td>\n",
              "      <td>0</td>\n",
              "      <td>0</td>\n",
              "      <td>0</td>\n",
              "      <td>0</td>\n",
              "      <td>0</td>\n",
              "      <td>0</td>\n",
              "      <td>0</td>\n",
              "      <td>0</td>\n",
              "      <td>0</td>\n",
              "      <td>0</td>\n",
              "      <td>0</td>\n",
              "      <td>0</td>\n",
              "      <td>0</td>\n",
              "      <td>0</td>\n",
              "      <td>0</td>\n",
              "      <td>0</td>\n",
              "      <td>0</td>\n",
              "      <td>0</td>\n",
              "      <td>0</td>\n",
              "      <td>0</td>\n",
              "      <td>0</td>\n",
              "      <td>0</td>\n",
              "      <td>0</td>\n",
              "      <td>0</td>\n",
              "      <td>0</td>\n",
              "      <td>0</td>\n",
              "      <td>1</td>\n",
              "      <td>0</td>\n",
              "      <td>0</td>\n",
              "    </tr>\n",
              "    <tr>\n",
              "      <th>3</th>\n",
              "      <td>53</td>\n",
              "      <td>Private</td>\n",
              "      <td>234721</td>\n",
              "      <td>11th</td>\n",
              "      <td>7</td>\n",
              "      <td>Married-civ-spouse</td>\n",
              "      <td>Handlers-cleaners</td>\n",
              "      <td>Husband</td>\n",
              "      <td>0</td>\n",
              "      <td>0</td>\n",
              "      <td>0</td>\n",
              "      <td>40</td>\n",
              "      <td>United-States</td>\n",
              "      <td>1</td>\n",
              "      <td>0</td>\n",
              "      <td>0</td>\n",
              "      <td>0</td>\n",
              "      <td>0</td>\n",
              "      <td>0</td>\n",
              "      <td>1</td>\n",
              "      <td>0</td>\n",
              "      <td>0</td>\n",
              "      <td>0</td>\n",
              "      <td>0</td>\n",
              "      <td>0</td>\n",
              "      <td>1</td>\n",
              "      <td>0</td>\n",
              "      <td>0</td>\n",
              "      <td>0</td>\n",
              "      <td>0</td>\n",
              "      <td>0</td>\n",
              "      <td>0</td>\n",
              "      <td>0</td>\n",
              "      <td>0</td>\n",
              "      <td>0</td>\n",
              "      <td>0</td>\n",
              "      <td>0</td>\n",
              "      <td>0</td>\n",
              "      <td>0</td>\n",
              "      <td>0</td>\n",
              "      <td>...</td>\n",
              "      <td>0</td>\n",
              "      <td>0</td>\n",
              "      <td>0</td>\n",
              "      <td>0</td>\n",
              "      <td>0</td>\n",
              "      <td>0</td>\n",
              "      <td>0</td>\n",
              "      <td>0</td>\n",
              "      <td>0</td>\n",
              "      <td>0</td>\n",
              "      <td>0</td>\n",
              "      <td>0</td>\n",
              "      <td>0</td>\n",
              "      <td>0</td>\n",
              "      <td>0</td>\n",
              "      <td>0</td>\n",
              "      <td>0</td>\n",
              "      <td>0</td>\n",
              "      <td>0</td>\n",
              "      <td>0</td>\n",
              "      <td>0</td>\n",
              "      <td>0</td>\n",
              "      <td>0</td>\n",
              "      <td>0</td>\n",
              "      <td>0</td>\n",
              "      <td>0</td>\n",
              "      <td>0</td>\n",
              "      <td>0</td>\n",
              "      <td>0</td>\n",
              "      <td>0</td>\n",
              "      <td>0</td>\n",
              "      <td>0</td>\n",
              "      <td>0</td>\n",
              "      <td>0</td>\n",
              "      <td>0</td>\n",
              "      <td>0</td>\n",
              "      <td>0</td>\n",
              "      <td>1</td>\n",
              "      <td>0</td>\n",
              "      <td>0</td>\n",
              "    </tr>\n",
              "    <tr>\n",
              "      <th>4</th>\n",
              "      <td>28</td>\n",
              "      <td>Private</td>\n",
              "      <td>338409</td>\n",
              "      <td>Bachelors</td>\n",
              "      <td>13</td>\n",
              "      <td>Married-civ-spouse</td>\n",
              "      <td>Prof-specialty</td>\n",
              "      <td>Wife</td>\n",
              "      <td>1</td>\n",
              "      <td>0</td>\n",
              "      <td>0</td>\n",
              "      <td>40</td>\n",
              "      <td>Cuba</td>\n",
              "      <td>1</td>\n",
              "      <td>1</td>\n",
              "      <td>0</td>\n",
              "      <td>0</td>\n",
              "      <td>0</td>\n",
              "      <td>0</td>\n",
              "      <td>1</td>\n",
              "      <td>0</td>\n",
              "      <td>0</td>\n",
              "      <td>0</td>\n",
              "      <td>0</td>\n",
              "      <td>0</td>\n",
              "      <td>0</td>\n",
              "      <td>0</td>\n",
              "      <td>0</td>\n",
              "      <td>0</td>\n",
              "      <td>0</td>\n",
              "      <td>0</td>\n",
              "      <td>0</td>\n",
              "      <td>0</td>\n",
              "      <td>1</td>\n",
              "      <td>0</td>\n",
              "      <td>0</td>\n",
              "      <td>0</td>\n",
              "      <td>0</td>\n",
              "      <td>0</td>\n",
              "      <td>0</td>\n",
              "      <td>...</td>\n",
              "      <td>0</td>\n",
              "      <td>0</td>\n",
              "      <td>0</td>\n",
              "      <td>1</td>\n",
              "      <td>0</td>\n",
              "      <td>0</td>\n",
              "      <td>0</td>\n",
              "      <td>0</td>\n",
              "      <td>0</td>\n",
              "      <td>0</td>\n",
              "      <td>0</td>\n",
              "      <td>0</td>\n",
              "      <td>0</td>\n",
              "      <td>0</td>\n",
              "      <td>0</td>\n",
              "      <td>0</td>\n",
              "      <td>0</td>\n",
              "      <td>0</td>\n",
              "      <td>0</td>\n",
              "      <td>0</td>\n",
              "      <td>0</td>\n",
              "      <td>0</td>\n",
              "      <td>0</td>\n",
              "      <td>0</td>\n",
              "      <td>0</td>\n",
              "      <td>0</td>\n",
              "      <td>0</td>\n",
              "      <td>0</td>\n",
              "      <td>0</td>\n",
              "      <td>0</td>\n",
              "      <td>0</td>\n",
              "      <td>0</td>\n",
              "      <td>0</td>\n",
              "      <td>0</td>\n",
              "      <td>0</td>\n",
              "      <td>0</td>\n",
              "      <td>0</td>\n",
              "      <td>0</td>\n",
              "      <td>0</td>\n",
              "      <td>0</td>\n",
              "    </tr>\n",
              "    <tr>\n",
              "      <th>...</th>\n",
              "      <td>...</td>\n",
              "      <td>...</td>\n",
              "      <td>...</td>\n",
              "      <td>...</td>\n",
              "      <td>...</td>\n",
              "      <td>...</td>\n",
              "      <td>...</td>\n",
              "      <td>...</td>\n",
              "      <td>...</td>\n",
              "      <td>...</td>\n",
              "      <td>...</td>\n",
              "      <td>...</td>\n",
              "      <td>...</td>\n",
              "      <td>...</td>\n",
              "      <td>...</td>\n",
              "      <td>...</td>\n",
              "      <td>...</td>\n",
              "      <td>...</td>\n",
              "      <td>...</td>\n",
              "      <td>...</td>\n",
              "      <td>...</td>\n",
              "      <td>...</td>\n",
              "      <td>...</td>\n",
              "      <td>...</td>\n",
              "      <td>...</td>\n",
              "      <td>...</td>\n",
              "      <td>...</td>\n",
              "      <td>...</td>\n",
              "      <td>...</td>\n",
              "      <td>...</td>\n",
              "      <td>...</td>\n",
              "      <td>...</td>\n",
              "      <td>...</td>\n",
              "      <td>...</td>\n",
              "      <td>...</td>\n",
              "      <td>...</td>\n",
              "      <td>...</td>\n",
              "      <td>...</td>\n",
              "      <td>...</td>\n",
              "      <td>...</td>\n",
              "      <td>...</td>\n",
              "      <td>...</td>\n",
              "      <td>...</td>\n",
              "      <td>...</td>\n",
              "      <td>...</td>\n",
              "      <td>...</td>\n",
              "      <td>...</td>\n",
              "      <td>...</td>\n",
              "      <td>...</td>\n",
              "      <td>...</td>\n",
              "      <td>...</td>\n",
              "      <td>...</td>\n",
              "      <td>...</td>\n",
              "      <td>...</td>\n",
              "      <td>...</td>\n",
              "      <td>...</td>\n",
              "      <td>...</td>\n",
              "      <td>...</td>\n",
              "      <td>...</td>\n",
              "      <td>...</td>\n",
              "      <td>...</td>\n",
              "      <td>...</td>\n",
              "      <td>...</td>\n",
              "      <td>...</td>\n",
              "      <td>...</td>\n",
              "      <td>...</td>\n",
              "      <td>...</td>\n",
              "      <td>...</td>\n",
              "      <td>...</td>\n",
              "      <td>...</td>\n",
              "      <td>...</td>\n",
              "      <td>...</td>\n",
              "      <td>...</td>\n",
              "      <td>...</td>\n",
              "      <td>...</td>\n",
              "      <td>...</td>\n",
              "      <td>...</td>\n",
              "      <td>...</td>\n",
              "      <td>...</td>\n",
              "      <td>...</td>\n",
              "      <td>...</td>\n",
              "    </tr>\n",
              "    <tr>\n",
              "      <th>32556</th>\n",
              "      <td>27</td>\n",
              "      <td>Private</td>\n",
              "      <td>257302</td>\n",
              "      <td>Assoc-acdm</td>\n",
              "      <td>12</td>\n",
              "      <td>Married-civ-spouse</td>\n",
              "      <td>Tech-support</td>\n",
              "      <td>Wife</td>\n",
              "      <td>1</td>\n",
              "      <td>0</td>\n",
              "      <td>0</td>\n",
              "      <td>38</td>\n",
              "      <td>United-States</td>\n",
              "      <td>1</td>\n",
              "      <td>1</td>\n",
              "      <td>0</td>\n",
              "      <td>0</td>\n",
              "      <td>0</td>\n",
              "      <td>0</td>\n",
              "      <td>1</td>\n",
              "      <td>0</td>\n",
              "      <td>0</td>\n",
              "      <td>0</td>\n",
              "      <td>0</td>\n",
              "      <td>0</td>\n",
              "      <td>0</td>\n",
              "      <td>0</td>\n",
              "      <td>0</td>\n",
              "      <td>0</td>\n",
              "      <td>0</td>\n",
              "      <td>0</td>\n",
              "      <td>1</td>\n",
              "      <td>0</td>\n",
              "      <td>0</td>\n",
              "      <td>0</td>\n",
              "      <td>0</td>\n",
              "      <td>0</td>\n",
              "      <td>0</td>\n",
              "      <td>0</td>\n",
              "      <td>0</td>\n",
              "      <td>...</td>\n",
              "      <td>0</td>\n",
              "      <td>0</td>\n",
              "      <td>0</td>\n",
              "      <td>0</td>\n",
              "      <td>0</td>\n",
              "      <td>0</td>\n",
              "      <td>0</td>\n",
              "      <td>0</td>\n",
              "      <td>0</td>\n",
              "      <td>0</td>\n",
              "      <td>0</td>\n",
              "      <td>0</td>\n",
              "      <td>0</td>\n",
              "      <td>0</td>\n",
              "      <td>0</td>\n",
              "      <td>0</td>\n",
              "      <td>0</td>\n",
              "      <td>0</td>\n",
              "      <td>0</td>\n",
              "      <td>0</td>\n",
              "      <td>0</td>\n",
              "      <td>0</td>\n",
              "      <td>0</td>\n",
              "      <td>0</td>\n",
              "      <td>0</td>\n",
              "      <td>0</td>\n",
              "      <td>0</td>\n",
              "      <td>0</td>\n",
              "      <td>0</td>\n",
              "      <td>0</td>\n",
              "      <td>0</td>\n",
              "      <td>0</td>\n",
              "      <td>0</td>\n",
              "      <td>0</td>\n",
              "      <td>0</td>\n",
              "      <td>0</td>\n",
              "      <td>0</td>\n",
              "      <td>1</td>\n",
              "      <td>0</td>\n",
              "      <td>0</td>\n",
              "    </tr>\n",
              "    <tr>\n",
              "      <th>32557</th>\n",
              "      <td>40</td>\n",
              "      <td>Private</td>\n",
              "      <td>154374</td>\n",
              "      <td>HS-grad</td>\n",
              "      <td>9</td>\n",
              "      <td>Married-civ-spouse</td>\n",
              "      <td>Machine-op-inspct</td>\n",
              "      <td>Husband</td>\n",
              "      <td>0</td>\n",
              "      <td>0</td>\n",
              "      <td>0</td>\n",
              "      <td>40</td>\n",
              "      <td>United-States</td>\n",
              "      <td>0</td>\n",
              "      <td>0</td>\n",
              "      <td>0</td>\n",
              "      <td>0</td>\n",
              "      <td>0</td>\n",
              "      <td>0</td>\n",
              "      <td>1</td>\n",
              "      <td>0</td>\n",
              "      <td>0</td>\n",
              "      <td>0</td>\n",
              "      <td>0</td>\n",
              "      <td>0</td>\n",
              "      <td>0</td>\n",
              "      <td>0</td>\n",
              "      <td>0</td>\n",
              "      <td>0</td>\n",
              "      <td>0</td>\n",
              "      <td>0</td>\n",
              "      <td>0</td>\n",
              "      <td>0</td>\n",
              "      <td>0</td>\n",
              "      <td>0</td>\n",
              "      <td>1</td>\n",
              "      <td>0</td>\n",
              "      <td>0</td>\n",
              "      <td>0</td>\n",
              "      <td>0</td>\n",
              "      <td>...</td>\n",
              "      <td>0</td>\n",
              "      <td>0</td>\n",
              "      <td>0</td>\n",
              "      <td>0</td>\n",
              "      <td>0</td>\n",
              "      <td>0</td>\n",
              "      <td>0</td>\n",
              "      <td>0</td>\n",
              "      <td>0</td>\n",
              "      <td>0</td>\n",
              "      <td>0</td>\n",
              "      <td>0</td>\n",
              "      <td>0</td>\n",
              "      <td>0</td>\n",
              "      <td>0</td>\n",
              "      <td>0</td>\n",
              "      <td>0</td>\n",
              "      <td>0</td>\n",
              "      <td>0</td>\n",
              "      <td>0</td>\n",
              "      <td>0</td>\n",
              "      <td>0</td>\n",
              "      <td>0</td>\n",
              "      <td>0</td>\n",
              "      <td>0</td>\n",
              "      <td>0</td>\n",
              "      <td>0</td>\n",
              "      <td>0</td>\n",
              "      <td>0</td>\n",
              "      <td>0</td>\n",
              "      <td>0</td>\n",
              "      <td>0</td>\n",
              "      <td>0</td>\n",
              "      <td>0</td>\n",
              "      <td>0</td>\n",
              "      <td>0</td>\n",
              "      <td>0</td>\n",
              "      <td>1</td>\n",
              "      <td>0</td>\n",
              "      <td>0</td>\n",
              "    </tr>\n",
              "    <tr>\n",
              "      <th>32558</th>\n",
              "      <td>58</td>\n",
              "      <td>Private</td>\n",
              "      <td>151910</td>\n",
              "      <td>HS-grad</td>\n",
              "      <td>9</td>\n",
              "      <td>Widowed</td>\n",
              "      <td>Adm-clerical</td>\n",
              "      <td>Unmarried</td>\n",
              "      <td>1</td>\n",
              "      <td>0</td>\n",
              "      <td>0</td>\n",
              "      <td>40</td>\n",
              "      <td>United-States</td>\n",
              "      <td>1</td>\n",
              "      <td>1</td>\n",
              "      <td>0</td>\n",
              "      <td>0</td>\n",
              "      <td>0</td>\n",
              "      <td>0</td>\n",
              "      <td>1</td>\n",
              "      <td>0</td>\n",
              "      <td>0</td>\n",
              "      <td>0</td>\n",
              "      <td>0</td>\n",
              "      <td>0</td>\n",
              "      <td>0</td>\n",
              "      <td>0</td>\n",
              "      <td>0</td>\n",
              "      <td>0</td>\n",
              "      <td>0</td>\n",
              "      <td>0</td>\n",
              "      <td>0</td>\n",
              "      <td>0</td>\n",
              "      <td>0</td>\n",
              "      <td>0</td>\n",
              "      <td>1</td>\n",
              "      <td>0</td>\n",
              "      <td>0</td>\n",
              "      <td>0</td>\n",
              "      <td>0</td>\n",
              "      <td>...</td>\n",
              "      <td>0</td>\n",
              "      <td>0</td>\n",
              "      <td>0</td>\n",
              "      <td>0</td>\n",
              "      <td>0</td>\n",
              "      <td>0</td>\n",
              "      <td>0</td>\n",
              "      <td>0</td>\n",
              "      <td>0</td>\n",
              "      <td>0</td>\n",
              "      <td>0</td>\n",
              "      <td>0</td>\n",
              "      <td>0</td>\n",
              "      <td>0</td>\n",
              "      <td>0</td>\n",
              "      <td>0</td>\n",
              "      <td>0</td>\n",
              "      <td>0</td>\n",
              "      <td>0</td>\n",
              "      <td>0</td>\n",
              "      <td>0</td>\n",
              "      <td>0</td>\n",
              "      <td>0</td>\n",
              "      <td>0</td>\n",
              "      <td>0</td>\n",
              "      <td>0</td>\n",
              "      <td>0</td>\n",
              "      <td>0</td>\n",
              "      <td>0</td>\n",
              "      <td>0</td>\n",
              "      <td>0</td>\n",
              "      <td>0</td>\n",
              "      <td>0</td>\n",
              "      <td>0</td>\n",
              "      <td>0</td>\n",
              "      <td>0</td>\n",
              "      <td>0</td>\n",
              "      <td>1</td>\n",
              "      <td>0</td>\n",
              "      <td>0</td>\n",
              "    </tr>\n",
              "    <tr>\n",
              "      <th>32559</th>\n",
              "      <td>22</td>\n",
              "      <td>Private</td>\n",
              "      <td>201490</td>\n",
              "      <td>HS-grad</td>\n",
              "      <td>9</td>\n",
              "      <td>Never-married</td>\n",
              "      <td>Adm-clerical</td>\n",
              "      <td>Own-child</td>\n",
              "      <td>0</td>\n",
              "      <td>0</td>\n",
              "      <td>0</td>\n",
              "      <td>20</td>\n",
              "      <td>United-States</td>\n",
              "      <td>1</td>\n",
              "      <td>0</td>\n",
              "      <td>0</td>\n",
              "      <td>0</td>\n",
              "      <td>0</td>\n",
              "      <td>0</td>\n",
              "      <td>1</td>\n",
              "      <td>0</td>\n",
              "      <td>0</td>\n",
              "      <td>0</td>\n",
              "      <td>0</td>\n",
              "      <td>0</td>\n",
              "      <td>0</td>\n",
              "      <td>0</td>\n",
              "      <td>0</td>\n",
              "      <td>0</td>\n",
              "      <td>0</td>\n",
              "      <td>0</td>\n",
              "      <td>0</td>\n",
              "      <td>0</td>\n",
              "      <td>0</td>\n",
              "      <td>0</td>\n",
              "      <td>1</td>\n",
              "      <td>0</td>\n",
              "      <td>0</td>\n",
              "      <td>0</td>\n",
              "      <td>0</td>\n",
              "      <td>...</td>\n",
              "      <td>0</td>\n",
              "      <td>0</td>\n",
              "      <td>0</td>\n",
              "      <td>0</td>\n",
              "      <td>0</td>\n",
              "      <td>0</td>\n",
              "      <td>0</td>\n",
              "      <td>0</td>\n",
              "      <td>0</td>\n",
              "      <td>0</td>\n",
              "      <td>0</td>\n",
              "      <td>0</td>\n",
              "      <td>0</td>\n",
              "      <td>0</td>\n",
              "      <td>0</td>\n",
              "      <td>0</td>\n",
              "      <td>0</td>\n",
              "      <td>0</td>\n",
              "      <td>0</td>\n",
              "      <td>0</td>\n",
              "      <td>0</td>\n",
              "      <td>0</td>\n",
              "      <td>0</td>\n",
              "      <td>0</td>\n",
              "      <td>0</td>\n",
              "      <td>0</td>\n",
              "      <td>0</td>\n",
              "      <td>0</td>\n",
              "      <td>0</td>\n",
              "      <td>0</td>\n",
              "      <td>0</td>\n",
              "      <td>0</td>\n",
              "      <td>0</td>\n",
              "      <td>0</td>\n",
              "      <td>0</td>\n",
              "      <td>0</td>\n",
              "      <td>0</td>\n",
              "      <td>1</td>\n",
              "      <td>0</td>\n",
              "      <td>0</td>\n",
              "    </tr>\n",
              "    <tr>\n",
              "      <th>32560</th>\n",
              "      <td>52</td>\n",
              "      <td>Self-emp-inc</td>\n",
              "      <td>287927</td>\n",
              "      <td>HS-grad</td>\n",
              "      <td>9</td>\n",
              "      <td>Married-civ-spouse</td>\n",
              "      <td>Exec-managerial</td>\n",
              "      <td>Wife</td>\n",
              "      <td>1</td>\n",
              "      <td>15024</td>\n",
              "      <td>0</td>\n",
              "      <td>40</td>\n",
              "      <td>United-States</td>\n",
              "      <td>0</td>\n",
              "      <td>1</td>\n",
              "      <td>0</td>\n",
              "      <td>0</td>\n",
              "      <td>0</td>\n",
              "      <td>0</td>\n",
              "      <td>0</td>\n",
              "      <td>1</td>\n",
              "      <td>0</td>\n",
              "      <td>0</td>\n",
              "      <td>0</td>\n",
              "      <td>0</td>\n",
              "      <td>0</td>\n",
              "      <td>0</td>\n",
              "      <td>0</td>\n",
              "      <td>0</td>\n",
              "      <td>0</td>\n",
              "      <td>0</td>\n",
              "      <td>0</td>\n",
              "      <td>0</td>\n",
              "      <td>0</td>\n",
              "      <td>0</td>\n",
              "      <td>1</td>\n",
              "      <td>0</td>\n",
              "      <td>0</td>\n",
              "      <td>0</td>\n",
              "      <td>0</td>\n",
              "      <td>...</td>\n",
              "      <td>0</td>\n",
              "      <td>0</td>\n",
              "      <td>0</td>\n",
              "      <td>0</td>\n",
              "      <td>0</td>\n",
              "      <td>0</td>\n",
              "      <td>0</td>\n",
              "      <td>0</td>\n",
              "      <td>0</td>\n",
              "      <td>0</td>\n",
              "      <td>0</td>\n",
              "      <td>0</td>\n",
              "      <td>0</td>\n",
              "      <td>0</td>\n",
              "      <td>0</td>\n",
              "      <td>0</td>\n",
              "      <td>0</td>\n",
              "      <td>0</td>\n",
              "      <td>0</td>\n",
              "      <td>0</td>\n",
              "      <td>0</td>\n",
              "      <td>0</td>\n",
              "      <td>0</td>\n",
              "      <td>0</td>\n",
              "      <td>0</td>\n",
              "      <td>0</td>\n",
              "      <td>0</td>\n",
              "      <td>0</td>\n",
              "      <td>0</td>\n",
              "      <td>0</td>\n",
              "      <td>0</td>\n",
              "      <td>0</td>\n",
              "      <td>0</td>\n",
              "      <td>0</td>\n",
              "      <td>0</td>\n",
              "      <td>0</td>\n",
              "      <td>0</td>\n",
              "      <td>1</td>\n",
              "      <td>0</td>\n",
              "      <td>0</td>\n",
              "    </tr>\n",
              "  </tbody>\n",
              "</table>\n",
              "<p>31978 rows × 109 columns</p>\n",
              "</div>"
            ],
            "text/plain": [
              "       age  ... native_country_ Yugoslavia\n",
              "0       39  ...                          0\n",
              "1       50  ...                          0\n",
              "2       38  ...                          0\n",
              "3       53  ...                          0\n",
              "4       28  ...                          0\n",
              "...    ...  ...                        ...\n",
              "32556   27  ...                          0\n",
              "32557   40  ...                          0\n",
              "32558   58  ...                          0\n",
              "32559   22  ...                          0\n",
              "32560   52  ...                          0\n",
              "\n",
              "[31978 rows x 109 columns]"
            ]
          },
          "metadata": {
            "tags": []
          },
          "execution_count": 20
        }
      ]
    },
    {
      "cell_type": "markdown",
      "metadata": {
        "id": "la7FJHeQ2lWF"
      },
      "source": [
        "Drop categorical columns from dataframe"
      ]
    },
    {
      "cell_type": "code",
      "metadata": {
        "id": "VHjYF29i2WGi"
      },
      "source": [
        "df_new.drop(['workclass',\r\n",
        " 'education',\r\n",
        " 'marital_status',\r\n",
        " 'ooccupation',\r\n",
        " 'relationship',\r\n",
        " 'native_country'], axis=1, inplace=True)"
      ],
      "execution_count": 21,
      "outputs": []
    },
    {
      "cell_type": "markdown",
      "metadata": {
        "id": "rZizYVllyEfS"
      },
      "source": [
        "## 3. Create a model\r\n",
        "We used Classification model:\r\n",
        "- KNeighborsClassifier\r\n",
        "- LogisticRegression\r\n",
        "- SGDClassifier\r\n",
        "\r\n",
        "\r\n",
        "## 4. Optimization methods: \r\n",
        "**GridSearchCV** is a function that comes in Scikit-learn’s(or SK-learn) model_selection package. This function helps to loop through predefined hyperparameters and fit your estimator (model) on your training set. So, in the end, we can select the best parameters from the listed hyperparameters.\r\n",
        "\r\n",
        "**RandomizedSearchCV** Random search is a technique where random combinations of the hyperparameters are used to find the best solution for the built model. It is similar to grid search, and yet it has proven to yield better results comparatively.\r\n",
        "\r\n"
      ]
    },
    {
      "cell_type": "code",
      "metadata": {
        "colab": {
          "base_uri": "https://localhost:8080/"
        },
        "id": "9y06r1dN35hF",
        "outputId": "ece09af9-b43f-42cd-bfda-672195d7fa5e"
      },
      "source": [
        "%time\r\n",
        "# import train_test_split to split dataset\r\n",
        "from sklearn.model_selection import train_test_split\r\n",
        "\r\n",
        "X = df_new.drop(['target'], axis=1)\r\n",
        "#X = df_new[['relationship_ Husband', 'marital_status_ Married-civ-spouse', 'marital_status_ Never-married','education_num', 'age', 'hours_per_week']]\r\n",
        "y = df_new.target\r\n",
        "\r\n",
        "X_train, X_test, y_train, y_test = train_test_split(X, y, train_size=.7)"
      ],
      "execution_count": 22,
      "outputs": [
        {
          "output_type": "stream",
          "text": [
            "CPU times: user 2 µs, sys: 0 ns, total: 2 µs\n",
            "Wall time: 5.96 µs\n"
          ],
          "name": "stdout"
        }
      ]
    },
    {
      "cell_type": "code",
      "metadata": {
        "id": "NYtjz77jiWVi"
      },
      "source": [
        "# import standard scaler\r\n",
        "from sklearn.preprocessing import StandardScaler\r\n",
        "# import standard scaler\r\n",
        "from sklearn.model_selection import RandomizedSearchCV\r\n"
      ],
      "execution_count": 23,
      "outputs": []
    },
    {
      "cell_type": "code",
      "metadata": {
        "id": "XswjSrUN4VZG"
      },
      "source": [
        "#Standardize features by removing the mean and scaling to unit variance\r\n",
        "sc = StandardScaler()"
      ],
      "execution_count": 24,
      "outputs": []
    },
    {
      "cell_type": "markdown",
      "metadata": {
        "id": "jXpHJRI3-OEp"
      },
      "source": [
        "\r\n",
        "\r\n",
        "### Model 1\r\n",
        "## **KNeighborsClassifier:**"
      ]
    },
    {
      "cell_type": "code",
      "metadata": {
        "id": "kUSi5VquiOgN"
      },
      "source": [
        "# import KNN model\r\n",
        "from sklearn.neighbors import KNeighborsClassifier"
      ],
      "execution_count": 25,
      "outputs": []
    },
    {
      "cell_type": "code",
      "metadata": {
        "id": "pirXAGzR4aAe"
      },
      "source": [
        "#Compute the mean and std to be used for later scaling\r\n",
        "X_train = sc.fit_transform(X_train)\r\n",
        "#Fit to data, then transform it.\r\n",
        "X_test = sc.transform(X_test)"
      ],
      "execution_count": 26,
      "outputs": []
    },
    {
      "cell_type": "code",
      "metadata": {
        "colab": {
          "base_uri": "https://localhost:8080/"
        },
        "id": "-m0IT86o4-NM",
        "outputId": "723d54a2-1948-4e5c-b367-5841fe743a16"
      },
      "source": [
        "knn = KNeighborsClassifier(leaf_size=2, n_neighbors=9, metric='minkowski', p=1, n_jobs=-1)\r\n",
        "\r\n",
        "knn.fit(X_train, y_train)"
      ],
      "execution_count": 27,
      "outputs": [
        {
          "output_type": "execute_result",
          "data": {
            "text/plain": [
              "KNeighborsClassifier(algorithm='auto', leaf_size=2, metric='minkowski',\n",
              "                     metric_params=None, n_jobs=-1, n_neighbors=9, p=1,\n",
              "                     weights='uniform')"
            ]
          },
          "metadata": {
            "tags": []
          },
          "execution_count": 27
        }
      ]
    },
    {
      "cell_type": "code",
      "metadata": {
        "id": "IcI1oDBT5Qet"
      },
      "source": [
        "# prediction for X_test\r\n",
        "%%time\r\n",
        "pred_knn = knn.predict(X_test)"
      ],
      "execution_count": 28,
      "outputs": []
    },
    {
      "cell_type": "code",
      "metadata": {
        "colab": {
          "base_uri": "https://localhost:8080/",
          "height": 609
        },
        "id": "7N-WW-b45dyN",
        "outputId": "cdea124c-415f-4db9-b18d-cbaa26a78b0c"
      },
      "source": [
        "# deterimne figure size\r\n",
        "plt.figure(figsize=(16,10))\r\n",
        "plt.scatter(x=df_new['hours_per_week'], y=df_new['fnlwgt'],\r\n",
        "            c=df_new['target'], cmap=('Set3'),  s = 45)\r\n",
        "# title\r\n",
        "plt.title('Scatter K-Neighbors Classifier', fontsize=16);"
      ],
      "execution_count": 93,
      "outputs": [
        {
          "output_type": "display_data",
          "data": {
            "image/png": "[encoded data removed]",
            "text/plain": [
              "<Figure size 1152x720 with 1 Axes>"
            ]
          },
          "metadata": {
            "tags": [],
            "needs_background": "light"
          }
        }
      ]
    },
    {
      "cell_type": "markdown",
      "metadata": {
        "id": "gkLJDvhF6i_Q"
      },
      "source": [
        "Visualization Confusion Matrix"
      ]
    },
    {
      "cell_type": "code",
      "metadata": {
        "colab": {
          "base_uri": "https://localhost:8080/",
          "height": 441
        },
        "id": "8slck5Ho6gaM",
        "outputId": "9eb77d2b-70c6-4263-fcec-9fdf89ec5dcf"
      },
      "source": [
        "%%time \r\n",
        "# deterimne figure size\r\n",
        "fig, ax = plt.subplots(figsize=(13, 6))\r\n",
        "# title\r\n",
        "plt.title('Confusion Matrix for KNN', fontsize=16)\r\n",
        "# make confusion matrix\r\n",
        "plot_confusion_matrix(knn, X=X_test, y_true=y_test, cmap='PuBuGn', ax=ax, display_labels=['<=50K', '>50K'], normalize='true', values_format='.0%');"
      ],
      "execution_count": 30,
      "outputs": [
        {
          "output_type": "stream",
          "text": [
            "CPU times: user 3min 42s, sys: 65.7 ms, total: 3min 42s\n",
            "Wall time: 56.5 s\n"
          ],
          "name": "stdout"
        },
        {
          "output_type": "display_data",
          "data": {
            "image/png": "[encoded data removed]",
            "text/plain": [
              "<Figure size 936x432 with 2 Axes>"
            ]
          },
          "metadata": {
            "tags": [],
            "needs_background": "light"
          }
        }
      ]
    },
    {
      "cell_type": "code",
      "metadata": {
        "colab": {
          "base_uri": "https://localhost:8080/"
        },
        "id": "dsWSzGcs71JT",
        "outputId": "84a0a8c7-4e82-4321-d49f-8bea1f22c31f"
      },
      "source": [
        "#print accuracy for KNN\r\n",
        "print(\"KNN Accuracy is {:.2f}%\".format(accuracy_score(y_test, pred_knn)*100))"
      ],
      "execution_count": 31,
      "outputs": [
        {
          "output_type": "stream",
          "text": [
            "KNN Accuracy is 82.92%\n"
          ],
          "name": "stdout"
        }
      ]
    },
    {
      "cell_type": "markdown",
      "metadata": {
        "id": "eAS_XaxG5jlN"
      },
      "source": [
        "## LogisticRegression Optimization with RandomizedSearchCV:\r\n",
        "\r\n"
      ]
    },
    {
      "cell_type": "code",
      "metadata": {
        "id": "rdJ92YID-8ae"
      },
      "source": [
        "#RandomizedSearchCV parameters\r\n",
        "param_grid = {'n_neighbors':[9,10,11,12],'weights': ['uniform', 'distance']}"
      ],
      "execution_count": 32,
      "outputs": []
    },
    {
      "cell_type": "code",
      "metadata": {
        "id": "6HNSZsRA82O8"
      },
      "source": [
        "#applying RandomizedSearchCV in KNN model\r\n",
        "random_reg = RandomizedSearchCV(knn,param_grid,n_iter=15,n_jobs=-1,cv=5)"
      ],
      "execution_count": 33,
      "outputs": []
    },
    {
      "cell_type": "code",
      "metadata": {
        "colab": {
          "base_uri": "https://localhost:8080/"
        },
        "id": "EXZGBy_K87pK",
        "outputId": "c37c1175-f45b-4689-d396-ac9eb8b6214c"
      },
      "source": [
        "#fit traoning dato into RandomizedSearchCV\r\n",
        " %%time\r\n",
        " random_reg.fit(X_train,y_train)\r\n"
      ],
      "execution_count": 34,
      "outputs": [
        {
          "output_type": "stream",
          "text": [
            "/usr/local/lib/python3.6/dist-packages/sklearn/model_selection/_search.py:281: UserWarning: The total space of parameters 8 is smaller than n_iter=15. Running 8 iterations. For exhaustive searches, use GridSearchCV.\n",
            "  % (grid_size, self.n_iter, grid_size), UserWarning)\n"
          ],
          "name": "stderr"
        },
        {
          "output_type": "stream",
          "text": [
            "CPU times: user 1.64 s, sys: 84.1 ms, total: 1.73 s\n",
            "Wall time: 16min 37s\n"
          ],
          "name": "stdout"
        },
        {
          "output_type": "execute_result",
          "data": {
            "text/plain": [
              "RandomizedSearchCV(cv=5, error_score=nan,\n",
              "                   estimator=KNeighborsClassifier(algorithm='auto', leaf_size=2,\n",
              "                                                  metric='minkowski',\n",
              "                                                  metric_params=None, n_jobs=-1,\n",
              "                                                  n_neighbors=9, p=1,\n",
              "                                                  weights='uniform'),\n",
              "                   iid='deprecated', n_iter=15, n_jobs=-1,\n",
              "                   param_distributions={'n_neighbors': [9, 10, 11, 12],\n",
              "                                        'weights': ['uniform', 'distance']},\n",
              "                   pre_dispatch='2*n_jobs', random_state=None, refit=True,\n",
              "                   return_train_score=False, scoring=None, verbose=0)"
            ]
          },
          "metadata": {
            "tags": []
          },
          "execution_count": 34
        }
      ]
    },
    {
      "cell_type": "code",
      "metadata": {
        "id": "CUltvfQ18-21",
        "colab": {
          "base_uri": "https://localhost:8080/"
        },
        "outputId": "d45c546d-eeaf-443d-cd71-6d820c548d83"
      },
      "source": [
        "\r\n",
        "#outcomes of RandomizedSearchCV in KNN to find best parameters and score\r\n",
        "%%time\r\n",
        "RandomizedSearchCV(cv=5, error_score='raise-deprecating',\r\n",
        "          estimator=KNeighborsClassifier(algorithm='auto', leaf_size=30, metric='minkowski',\r\n",
        "                                        n_neighbors=9, p=1,\r\n",
        "                                        weights='uniform'),iid='warn', n_iter=15, n_jobs=-1,\r\n",
        "                   param_distributions={'n_neighbors': [9, 10, 11, 12], 'weights': ['uniform', 'distance']})"
      ],
      "execution_count": 35,
      "outputs": [
        {
          "output_type": "stream",
          "text": [
            "CPU times: user 32 µs, sys: 0 ns, total: 32 µs\n",
            "Wall time: 35 µs\n"
          ],
          "name": "stdout"
        },
        {
          "output_type": "execute_result",
          "data": {
            "text/plain": [
              "RandomizedSearchCV(cv=5, error_score='raise-deprecating',\n",
              "                   estimator=KNeighborsClassifier(algorithm='auto',\n",
              "                                                  leaf_size=30,\n",
              "                                                  metric='minkowski',\n",
              "                                                  metric_params=None,\n",
              "                                                  n_jobs=None, n_neighbors=9,\n",
              "                                                  p=1, weights='uniform'),\n",
              "                   iid='warn', n_iter=15, n_jobs=-1,\n",
              "                   param_distributions={'n_neighbors': [9, 10, 11, 12],\n",
              "                                        'weights': ['uniform', 'distance']},\n",
              "                   pre_dispatch='2*n_jobs', random_state=None, refit=True,\n",
              "                   return_train_score=False, scoring=None, verbose=0)"
            ]
          },
          "metadata": {
            "tags": []
          },
          "execution_count": 35
        }
      ]
    },
    {
      "cell_type": "code",
      "metadata": {
        "id": "1wDGGUC49Ner",
        "colab": {
          "base_uri": "https://localhost:8080/"
        },
        "outputId": "0ad7a4b6-2a8a-4699-cee1-625e9c925e6d"
      },
      "source": [
        "#RandomizedSearchCV in KNN to find best parameters\r\n",
        "random_reg.best_estimator_\r\n"
      ],
      "execution_count": 36,
      "outputs": [
        {
          "output_type": "execute_result",
          "data": {
            "text/plain": [
              "KNeighborsClassifier(algorithm='auto', leaf_size=2, metric='minkowski',\n",
              "                     metric_params=None, n_jobs=-1, n_neighbors=11, p=1,\n",
              "                     weights='uniform')"
            ]
          },
          "metadata": {
            "tags": []
          },
          "execution_count": 36
        }
      ]
    },
    {
      "cell_type": "code",
      "metadata": {
        "id": "3uR0pD399QXv",
        "colab": {
          "base_uri": "https://localhost:8080/"
        },
        "outputId": "3dd40da7-824d-49c7-fc51-0f4aed3ca6db"
      },
      "source": [
        "#RandomizedSearchCV in KNN to find best score\r\n",
        "random_reg.best_score_"
      ],
      "execution_count": 37,
      "outputs": [
        {
          "output_type": "execute_result",
          "data": {
            "text/plain": [
              "0.8325140830015313"
            ]
          },
          "metadata": {
            "tags": []
          },
          "execution_count": 37
        }
      ]
    },
    {
      "cell_type": "markdown",
      "metadata": {
        "id": "aaoci8SbdG3B"
      },
      "source": [
        "**KNN Report:**"
      ]
    },
    {
      "cell_type": "code",
      "metadata": {
        "id": "k4GYxyDFaX42",
        "colab": {
          "base_uri": "https://localhost:8080/",
          "height": 53
        },
        "outputId": "38d9f379-add8-440e-9c5c-c30867d21c33"
      },
      "source": [
        "# calculate the performance metrics for knn\r\n",
        "classification_report(y_test, pred_knn)"
      ],
      "execution_count": 38,
      "outputs": [
        {
          "output_type": "execute_result",
          "data": {
            "application/vnd.google.colaboratory.intrinsic+json": {
              "type": "string"
            },
            "text/plain": [
              "'              precision    recall  f1-score   support\\n\\n           0       0.67      0.56      0.61      2305\\n           1       0.87      0.91      0.89      7289\\n\\n    accuracy                           0.83      9594\\n   macro avg       0.77      0.74      0.75      9594\\nweighted avg       0.82      0.83      0.82      9594\\n'"
            ]
          },
          "metadata": {
            "tags": []
          },
          "execution_count": 38
        }
      ]
    },
    {
      "cell_type": "markdown",
      "metadata": {
        "id": "yAtzS90b_HeP"
      },
      "source": [
        "### Model 2:\r\n",
        "## **LogisticRegression :**"
      ]
    },
    {
      "cell_type": "code",
      "metadata": {
        "id": "Ou4IYpB8iqcc"
      },
      "source": [
        "# import Logistic Regression model\r\n",
        "from sklearn.linear_model import LogisticRegression"
      ],
      "execution_count": 39,
      "outputs": []
    },
    {
      "cell_type": "code",
      "metadata": {
        "id": "GDz3Bt5-_Ff_"
      },
      "source": [
        "# logistic regression is a classifier, for our case, True (1) or False (0)\r\n",
        "lr = LogisticRegression()"
      ],
      "execution_count": 40,
      "outputs": []
    },
    {
      "cell_type": "code",
      "metadata": {
        "id": "fS5beg2o_m71",
        "colab": {
          "base_uri": "https://localhost:8080/"
        },
        "outputId": "a0682866-8077-492a-a1a6-6aedec176a27"
      },
      "source": [
        "#fit training set into LogisticRegression model \r\n",
        "lr.fit(X_train, y_train)"
      ],
      "execution_count": 41,
      "outputs": [
        {
          "output_type": "execute_result",
          "data": {
            "text/plain": [
              "LogisticRegression(C=1.0, class_weight=None, dual=False, fit_intercept=True,\n",
              "                   intercept_scaling=1, l1_ratio=None, max_iter=100,\n",
              "                   multi_class='auto', n_jobs=None, penalty='l2',\n",
              "                   random_state=None, solver='lbfgs', tol=0.0001, verbose=0,\n",
              "                   warm_start=False)"
            ]
          },
          "metadata": {
            "tags": []
          },
          "execution_count": 41
        }
      ]
    },
    {
      "cell_type": "code",
      "metadata": {
        "id": "m2kWLPPB_xSV"
      },
      "source": [
        "# predict the y values from X test data\r\n",
        "pred_lr = lr.predict(X_test)"
      ],
      "execution_count": 42,
      "outputs": []
    },
    {
      "cell_type": "code",
      "metadata": {
        "id": "U37o7DXpVAHj",
        "colab": {
          "base_uri": "https://localhost:8080/"
        },
        "outputId": "8d67cc48-c5fd-4984-caa1-975705a78393"
      },
      "source": [
        "#cross val score\r\n",
        "from sklearn.model_selection import cross_val_score\r\n",
        "cross_val_score(lr, X_train, y_train, cv=10)"
      ],
      "execution_count": 43,
      "outputs": [
        {
          "output_type": "execute_result",
          "data": {
            "text/plain": [
              "array([0.85037963, 0.8673515 , 0.8530594 , 0.85841894, 0.84271671,\n",
              "       0.85835567, 0.84986595, 0.86058981, 0.84182306, 0.84271671])"
            ]
          },
          "metadata": {
            "tags": []
          },
          "execution_count": 43
        }
      ]
    },
    {
      "cell_type": "code",
      "metadata": {
        "id": "DR_21GoYeUth",
        "colab": {
          "base_uri": "https://localhost:8080/",
          "height": 406
        },
        "outputId": "54ce12b5-023f-49df-d994-e464e88fa57b"
      },
      "source": [
        "# deterimne figure size\r\n",
        "fig, ax = plt.subplots(figsize=(13, 6))\r\n",
        "# title\r\n",
        "plt.title('Confusion Matrix for LR', fontsize=16)\r\n",
        "# make confusion matrix\r\n",
        "plot_confusion_matrix(lr, X=X_test, y_true=y_test, cmap='PuBuGn', ax=ax, display_labels=['<=50K', '>50K'], normalize='true', values_format='.0%');"
      ],
      "execution_count": 44,
      "outputs": [
        {
          "output_type": "display_data",
          "data": {
            "image/png": "[encoded data removed]",
            "text/plain": [
              "<Figure size 936x432 with 2 Axes>"
            ]
          },
          "metadata": {
            "tags": [],
            "needs_background": "light"
          }
        }
      ]
    },
    {
      "cell_type": "code",
      "metadata": {
        "id": "ZKbc-WMlA5HX",
        "colab": {
          "base_uri": "https://localhost:8080/"
        },
        "outputId": "110c79b0-84a7-47c1-c8ef-68dcf9d25c6d"
      },
      "source": [
        "# print accuracy for SGDC\r\n",
        "print(\"Logistics Regression Accuracy is {:.2f}%\".format(accuracy_score(y_test, lr.predict(X_test))*100))"
      ],
      "execution_count": 45,
      "outputs": [
        {
          "output_type": "stream",
          "text": [
            "Logistics Regression Accuracy is 85.03%\n"
          ],
          "name": "stdout"
        }
      ]
    },
    {
      "cell_type": "markdown",
      "metadata": {
        "id": "aYRtxNaZKjvz"
      },
      "source": [
        "## LogisticRegression Optimization with RandomizedSearchCV:\r\n",
        "\r\n"
      ]
    },
    {
      "cell_type": "code",
      "metadata": {
        "id": "Ho4EyBwWKrQa"
      },
      "source": [
        "#RandomizedSearchCV parameters  for logisticregresssion\r\n",
        "log_params = {'penalty': ['l1','l2'],\r\n",
        "              'C': [0.001,0.01,0.1,0.5,1.0],\r\n",
        "              'class_weight': ['balanced',None],\r\n",
        "              'multi_class': ['auto', 'ovr'],\r\n",
        "              'solver': ['newton-cg', 'lbfgs']\r\n",
        "             }"
      ],
      "execution_count": 46,
      "outputs": []
    },
    {
      "cell_type": "code",
      "metadata": {
        "id": "MpEWyGRqKrNZ"
      },
      "source": [
        "#RandomizedSearchCV for logisticregresssion with previous parameters \r\n",
        "random_reg = RandomizedSearchCV(lr,log_params,n_jobs=-1,cv=10)"
      ],
      "execution_count": 47,
      "outputs": []
    },
    {
      "cell_type": "code",
      "metadata": {
        "colab": {
          "base_uri": "https://localhost:8080/"
        },
        "id": "BvjAIgG6KrIB",
        "outputId": "2151e4c1-cdb8-4221-b1e3-33a612918ee3"
      },
      "source": [
        "#fit training set into RandomizedSearchCV\r\n",
        "random_reg.fit(X_train,y_train)\r\n"
      ],
      "execution_count": 48,
      "outputs": [
        {
          "output_type": "execute_result",
          "data": {
            "text/plain": [
              "RandomizedSearchCV(cv=10, error_score=nan,\n",
              "                   estimator=LogisticRegression(C=1.0, class_weight=None,\n",
              "                                                dual=False, fit_intercept=True,\n",
              "                                                intercept_scaling=1,\n",
              "                                                l1_ratio=None, max_iter=100,\n",
              "                                                multi_class='auto', n_jobs=None,\n",
              "                                                penalty='l2', random_state=None,\n",
              "                                                solver='lbfgs', tol=0.0001,\n",
              "                                                verbose=0, warm_start=False),\n",
              "                   iid='deprecated', n_iter=10, n_jobs=-1,\n",
              "                   param_distributions={'C': [0.001, 0.01, 0.1, 0.5, 1.0],\n",
              "                                        'class_weight': ['balanced', None],\n",
              "                                        'multi_class': ['auto', 'ovr'],\n",
              "                                        'penalty': ['l1', 'l2'],\n",
              "                                        'solver': ['newton-cg', 'lbfgs']},\n",
              "                   pre_dispatch='2*n_jobs', random_state=None, refit=True,\n",
              "                   return_train_score=False, scoring=None, verbose=0)"
            ]
          },
          "metadata": {
            "tags": []
          },
          "execution_count": 48
        }
      ]
    },
    {
      "cell_type": "code",
      "metadata": {
        "colab": {
          "base_uri": "https://localhost:8080/"
        },
        "id": "fr3m4v1AN4hr",
        "outputId": "c86dae8e-7af3-490d-e3d9-4b6e12188d65"
      },
      "source": [
        "#RandomizedSearchCV's best parameters for LogisticRegression\r\n",
        "random_reg.best_estimator_\r\n"
      ],
      "execution_count": 49,
      "outputs": [
        {
          "output_type": "execute_result",
          "data": {
            "text/plain": [
              "LogisticRegression(C=0.01, class_weight=None, dual=False, fit_intercept=True,\n",
              "                   intercept_scaling=1, l1_ratio=None, max_iter=100,\n",
              "                   multi_class='ovr', n_jobs=None, penalty='l2',\n",
              "                   random_state=None, solver='lbfgs', tol=0.0001, verbose=0,\n",
              "                   warm_start=False)"
            ]
          },
          "metadata": {
            "tags": []
          },
          "execution_count": 49
        }
      ]
    },
    {
      "cell_type": "code",
      "metadata": {
        "colab": {
          "base_uri": "https://localhost:8080/"
        },
        "id": "DTUsV0yBKq_c",
        "outputId": "8c04cbfb-39a9-44a7-ef66-5e02691ee89e"
      },
      "source": [
        "#RandomizedSearchCV's best score for LogisticRegression\r\n",
        "random_reg.best_score_\r\n"
      ],
      "execution_count": 50,
      "outputs": [
        {
          "output_type": "execute_result",
          "data": {
            "text/plain": [
              "0.8518577368215816"
            ]
          },
          "metadata": {
            "tags": []
          },
          "execution_count": 50
        }
      ]
    },
    {
      "cell_type": "markdown",
      "metadata": {
        "id": "2rwNTt_XPYkH"
      },
      "source": [
        "## Check out the accuracy of LogisticRegression model after using RandomizedSearchCV optimization:"
      ]
    },
    {
      "cell_type": "code",
      "metadata": {
        "id": "Ti1TppOKPWop"
      },
      "source": [
        "#hyperparameters of LogisticRegression\r\n",
        "lr = LogisticRegression(C=0.1, class_weight=None, dual=False, fit_intercept=True,\r\n",
        "                   intercept_scaling=1, l1_ratio=None, max_iter=100,\r\n",
        "                   multi_class='auto', n_jobs=None, penalty='l2',\r\n",
        "                   random_state=None, solver='lbfgs', tol=0.0001, verbose=0,\r\n",
        "                   warm_start=False)"
      ],
      "execution_count": 51,
      "outputs": []
    },
    {
      "cell_type": "code",
      "metadata": {
        "colab": {
          "base_uri": "https://localhost:8080/"
        },
        "id": "ykiJBDQBPWvW",
        "outputId": "2e4fc3a8-69b8-492b-97da-9a13a04794a7"
      },
      "source": [
        "#fit rainig set into LogisticRegression after RandomizedSearchCV\r\n",
        "lr.fit(X_train, y_train)"
      ],
      "execution_count": 52,
      "outputs": [
        {
          "output_type": "execute_result",
          "data": {
            "text/plain": [
              "LogisticRegression(C=0.1, class_weight=None, dual=False, fit_intercept=True,\n",
              "                   intercept_scaling=1, l1_ratio=None, max_iter=100,\n",
              "                   multi_class='auto', n_jobs=None, penalty='l2',\n",
              "                   random_state=None, solver='lbfgs', tol=0.0001, verbose=0,\n",
              "                   warm_start=False)"
            ]
          },
          "metadata": {
            "tags": []
          },
          "execution_count": 52
        }
      ]
    },
    {
      "cell_type": "code",
      "metadata": {
        "id": "uFUCYIkZPW0I"
      },
      "source": [
        "#prediction of X_test \r\n",
        "pred_lr = lr.predict(X_test)\r\n"
      ],
      "execution_count": 53,
      "outputs": []
    },
    {
      "cell_type": "code",
      "metadata": {
        "colab": {
          "base_uri": "https://localhost:8080/"
        },
        "id": "PuJ_LjcCP1AE",
        "outputId": "ca5af637-47f5-4be7-e0fd-f944e989adb1"
      },
      "source": [
        "#Accuracy of Logistics Regression\r\n",
        "print(\"Logistics Regression Accuracy is {:.2f}%\".format(accuracy_score(y_test, lr.predict(X_test))*100))"
      ],
      "execution_count": 54,
      "outputs": [
        {
          "output_type": "stream",
          "text": [
            "Logistics Regression Accuracy is 85.04%\n"
          ],
          "name": "stdout"
        }
      ]
    },
    {
      "cell_type": "markdown",
      "metadata": {
        "id": "YxRhv0oNOWQM"
      },
      "source": [
        "## LogisticRegression Optimization with GridSearchCV:"
      ]
    },
    {
      "cell_type": "code",
      "metadata": {
        "id": "0HDDuSI4OTkU"
      },
      "source": [
        "param_grid ={'solver': ['liblinear', 'newton-cg'],\r\n",
        "             'fit_intercept':[True, False]}\r\n",
        "#Make GridSearchCV\r\n",
        "grid_search =GridSearchCV(lr, param_grid, cv=10)"
      ],
      "execution_count": 55,
      "outputs": []
    },
    {
      "cell_type": "code",
      "metadata": {
        "colab": {
          "base_uri": "https://localhost:8080/"
        },
        "id": "fEyyvHQsOTg4",
        "outputId": "6b18ae32-75ad-465e-90f5-cc486062d30b"
      },
      "source": [
        "#fit X_train and y_train into grid_search\r\n",
        "grid_search= grid_search.fit(X_train, y_train)\r\n",
        "grid_search"
      ],
      "execution_count": 56,
      "outputs": [
        {
          "output_type": "execute_result",
          "data": {
            "text/plain": [
              "GridSearchCV(cv=10, error_score=nan,\n",
              "             estimator=LogisticRegression(C=0.1, class_weight=None, dual=False,\n",
              "                                          fit_intercept=True,\n",
              "                                          intercept_scaling=1, l1_ratio=None,\n",
              "                                          max_iter=100, multi_class='auto',\n",
              "                                          n_jobs=None, penalty='l2',\n",
              "                                          random_state=None, solver='lbfgs',\n",
              "                                          tol=0.0001, verbose=0,\n",
              "                                          warm_start=False),\n",
              "             iid='deprecated', n_jobs=None,\n",
              "             param_grid={'fit_intercept': [True, False],\n",
              "                         'solver': ['liblinear', 'newton-cg']},\n",
              "             pre_dispatch='2*n_jobs', refit=True, return_train_score=False,\n",
              "             scoring=None, verbose=0)"
            ]
          },
          "metadata": {
            "tags": []
          },
          "execution_count": 56
        }
      ]
    },
    {
      "cell_type": "code",
      "metadata": {
        "colab": {
          "base_uri": "https://localhost:8080/"
        },
        "id": "-udeIHSyT4wv",
        "outputId": "921efc48-4424-40a4-e7cf-a9d5026efdf4"
      },
      "source": [
        "#best parameters of LogisticRegression after using GridSearchCV\r\n",
        "grid_search.best_params_"
      ],
      "execution_count": 57,
      "outputs": [
        {
          "output_type": "execute_result",
          "data": {
            "text/plain": [
              "{'fit_intercept': True, 'solver': 'liblinear'}"
            ]
          },
          "metadata": {
            "tags": []
          },
          "execution_count": 57
        }
      ]
    },
    {
      "cell_type": "code",
      "metadata": {
        "colab": {
          "base_uri": "https://localhost:8080/"
        },
        "id": "19oq3n8TT453",
        "outputId": "620cbffb-a212-4a28-8530-04238d2f6d33"
      },
      "source": [
        "#best score of LogisticRegression after using GridSearchCV\r\n",
        "grid_search.best_score_"
      ],
      "execution_count": 58,
      "outputs": [
        {
          "output_type": "execute_result",
          "data": {
            "text/plain": [
              "0.852706489596043"
            ]
          },
          "metadata": {
            "tags": []
          },
          "execution_count": 58
        }
      ]
    },
    {
      "cell_type": "markdown",
      "metadata": {
        "id": "eWSLKpfj2DvE"
      },
      "source": [
        "## Check out the accuracy of LogisticRegression model after using GridSearchCV's optimization:"
      ]
    },
    {
      "cell_type": "code",
      "metadata": {
        "id": "msXfxcAuT4_k"
      },
      "source": [
        "#LogisticRegression with best parameters\r\n",
        "lr=LogisticRegression(fit_intercept= True, solver= 'liblinear')"
      ],
      "execution_count": 59,
      "outputs": []
    },
    {
      "cell_type": "code",
      "metadata": {
        "colab": {
          "base_uri": "https://localhost:8080/"
        },
        "id": "jR4bKGNNOTbP",
        "outputId": "199782d7-aff3-45c2-a453-c687133f3ec5"
      },
      "source": [
        "#fit training set into LogisticRegression\r\n",
        "lr.fit(X_train, y_train)"
      ],
      "execution_count": 60,
      "outputs": [
        {
          "output_type": "execute_result",
          "data": {
            "text/plain": [
              "LogisticRegression(C=1.0, class_weight=None, dual=False, fit_intercept=True,\n",
              "                   intercept_scaling=1, l1_ratio=None, max_iter=100,\n",
              "                   multi_class='auto', n_jobs=None, penalty='l2',\n",
              "                   random_state=None, solver='liblinear', tol=0.0001, verbose=0,\n",
              "                   warm_start=False)"
            ]
          },
          "metadata": {
            "tags": []
          },
          "execution_count": 60
        }
      ]
    },
    {
      "cell_type": "code",
      "metadata": {
        "id": "_A_Z1o5oOTVO"
      },
      "source": [
        "#prediction of x_test\r\n",
        "pred_lr = lr.predict(X_test)"
      ],
      "execution_count": 61,
      "outputs": []
    },
    {
      "cell_type": "code",
      "metadata": {
        "colab": {
          "base_uri": "https://localhost:8080/"
        },
        "id": "l-2EL7UaOTRr",
        "outputId": "13e19b2d-27f5-4cb3-9369-c5447dca9c73"
      },
      "source": [
        "print(\"LogisticRegression Accuracy after using GridSearchCV is {:.2f}%\".format(accuracy_score(y_test, lr.predict(X_test))*100))"
      ],
      "execution_count": 62,
      "outputs": [
        {
          "output_type": "stream",
          "text": [
            "LogisticRegression Accuracy after using GridSearchCV is 85.03%\n"
          ],
          "name": "stdout"
        }
      ]
    },
    {
      "cell_type": "markdown",
      "metadata": {
        "id": "iJRB1rxScsxs"
      },
      "source": [
        "LogisticRegression Report: "
      ]
    },
    {
      "cell_type": "code",
      "metadata": {
        "id": "dD0HgfRlcMXr",
        "colab": {
          "base_uri": "https://localhost:8080/",
          "height": 53
        },
        "outputId": "262c9a31-3beb-430d-b47c-3629e6f2718d"
      },
      "source": [
        "# calculate the performance metrics for logistics regression\r\n",
        "classification_report(y_test, pred_lr)"
      ],
      "execution_count": 63,
      "outputs": [
        {
          "output_type": "execute_result",
          "data": {
            "application/vnd.google.colaboratory.intrinsic+json": {
              "type": "string"
            },
            "text/plain": [
              "'              precision    recall  f1-score   support\\n\\n           0       0.73      0.60      0.66      2305\\n           1       0.88      0.93      0.90      7289\\n\\n    accuracy                           0.85      9594\\n   macro avg       0.81      0.76      0.78      9594\\nweighted avg       0.84      0.85      0.84      9594\\n'"
            ]
          },
          "metadata": {
            "tags": []
          },
          "execution_count": 63
        }
      ]
    },
    {
      "cell_type": "markdown",
      "metadata": {
        "id": "eLQR4AkfCEZB"
      },
      "source": [
        "### Model 3:\r\n",
        "##  **Stochastic Gradient Descent:**"
      ]
    },
    {
      "cell_type": "code",
      "metadata": {
        "id": "5_4ml6Doi9xS"
      },
      "source": [
        "# import SGD Classifier model\r\n",
        "from sklearn.linear_model import SGDClassifier"
      ],
      "execution_count": 64,
      "outputs": []
    },
    {
      "cell_type": "code",
      "metadata": {
        "id": "QFZyizUFCLG0"
      },
      "source": [
        "sgdc = SGDClassifier(max_iter=1000)"
      ],
      "execution_count": 65,
      "outputs": []
    },
    {
      "cell_type": "code",
      "metadata": {
        "id": "5wSJe_YgCSQY",
        "colab": {
          "base_uri": "https://localhost:8080/"
        },
        "outputId": "ce4ef280-bcbc-4f97-b517-dff4f9847b2e"
      },
      "source": [
        "#fit training set into SGD model\r\n",
        "sgdc.fit(X_train, y_train)"
      ],
      "execution_count": 66,
      "outputs": [
        {
          "output_type": "execute_result",
          "data": {
            "text/plain": [
              "SGDClassifier(alpha=0.0001, average=False, class_weight=None,\n",
              "              early_stopping=False, epsilon=0.1, eta0=0.0, fit_intercept=True,\n",
              "              l1_ratio=0.15, learning_rate='optimal', loss='hinge',\n",
              "              max_iter=1000, n_iter_no_change=5, n_jobs=None, penalty='l2',\n",
              "              power_t=0.5, random_state=None, shuffle=True, tol=0.001,\n",
              "              validation_fraction=0.1, verbose=0, warm_start=False)"
            ]
          },
          "metadata": {
            "tags": []
          },
          "execution_count": 66
        }
      ]
    },
    {
      "cell_type": "code",
      "metadata": {
        "id": "mnjmFDzaCVop"
      },
      "source": [
        "#prediction of X_test\r\n",
        "pred_sgdc = sgdc.predict(X_test)"
      ],
      "execution_count": 67,
      "outputs": []
    },
    {
      "cell_type": "code",
      "metadata": {
        "id": "kKi8tCx8CX1o",
        "colab": {
          "base_uri": "https://localhost:8080/"
        },
        "outputId": "f6b9ae97-5ff1-461c-fd3a-ab4ba992786b"
      },
      "source": [
        "# print accuracy for SGDC\r\n",
        "print(\"Stochastic Gradient Descent Accuracy is {:.2f}%\".format(accuracy_score(y_test, pred_sgdc)*100))"
      ],
      "execution_count": 68,
      "outputs": [
        {
          "output_type": "stream",
          "text": [
            "Stochastic Gradient Descent Accuracy is 84.07%\n"
          ],
          "name": "stdout"
        }
      ]
    },
    {
      "cell_type": "markdown",
      "metadata": {
        "id": "ZvVps2sZcj05"
      },
      "source": [
        "Stochastic Gradient Descent Report:"
      ]
    },
    {
      "cell_type": "code",
      "metadata": {
        "id": "-90rOw7HcfEN",
        "colab": {
          "base_uri": "https://localhost:8080/",
          "height": 53
        },
        "outputId": "79100743-5fee-4ecd-f43d-31ea97b993b2"
      },
      "source": [
        "# calculate the performance metrics for sgdc\r\n",
        "classification_report(y_test, pred_sgdc)"
      ],
      "execution_count": 69,
      "outputs": [
        {
          "output_type": "execute_result",
          "data": {
            "application/vnd.google.colaboratory.intrinsic+json": {
              "type": "string"
            },
            "text/plain": [
              "'              precision    recall  f1-score   support\\n\\n           0       0.71      0.57      0.63      2305\\n           1       0.87      0.93      0.90      7289\\n\\n    accuracy                           0.84      9594\\n   macro avg       0.79      0.75      0.77      9594\\nweighted avg       0.83      0.84      0.83      9594\\n'"
            ]
          },
          "metadata": {
            "tags": []
          },
          "execution_count": 69
        }
      ]
    },
    {
      "cell_type": "code",
      "metadata": {
        "id": "sIMcicN7ee0g",
        "colab": {
          "base_uri": "https://localhost:8080/",
          "height": 406
        },
        "outputId": "00d54910-6e5c-45fc-913b-31eccd8355d8"
      },
      "source": [
        "# deterimne figure size\r\n",
        "fig, ax = plt.subplots(figsize=(13, 6))\r\n",
        "# title\r\n",
        "plt.title('Confusion Matrix for SGDC', fontsize=16)\r\n",
        "# make confusion matrix\r\n",
        "plot_confusion_matrix(sgdc, X=X_test, y_true=y_test, cmap='PuBuGn', ax=ax, display_labels=['<=50K', '>50K'], normalize='true', values_format='.0%');"
      ],
      "execution_count": 70,
      "outputs": [
        {
          "output_type": "display_data",
          "data": {
            "image/png": "[encoded data removed]",
            "text/plain": [
              "<Figure size 936x432 with 2 Axes>"
            ]
          },
          "metadata": {
            "tags": [],
            "needs_background": "light"
          }
        }
      ]
    },
    {
      "cell_type": "markdown",
      "metadata": {
        "id": "bRPOtvabXBaC"
      },
      "source": [
        "\r\n",
        "## Stochastic Gradient Descent Optimization with RandomizedSearchCV:\r\n",
        "\r\n",
        " "
      ]
    },
    {
      "cell_type": "code",
      "metadata": {
        "id": "Gq6-5IHlXF__"
      },
      "source": [
        "#param_grid = {'n_neighbors':[9,10,11,12],'weights': ['uniform', 'distance']}\r\n",
        "\r\n",
        "sgdc_params = {'loss': ['log', 'huber', 'epsilon_insensitive', 'squared_epsilon_insensitive'],\r\n",
        "              'max_iter': [10, 100, 250, 1000, 10000],\r\n",
        "               'penalty':['l2', 'l1']}"
      ],
      "execution_count": 71,
      "outputs": []
    },
    {
      "cell_type": "code",
      "metadata": {
        "id": "MDG9kgjXXGHg"
      },
      "source": [
        "#optimize SGDClassifier by RandomizedSearchCV\r\n",
        "random_reg = RandomizedSearchCV(sgdc,sgdc_params,n_jobs=-1,cv=10)\r\n"
      ],
      "execution_count": 72,
      "outputs": []
    },
    {
      "cell_type": "code",
      "metadata": {
        "colab": {
          "base_uri": "https://localhost:8080/"
        },
        "id": "hQyGUHTxXGU9",
        "outputId": "655381a6-34bc-4ae8-90e0-8a77fdfc634d"
      },
      "source": [
        "%%time\r\n",
        "#fit training set into RandomizedSearchCV\r\n",
        "random_reg.fit(X_train,y_train)\r\n"
      ],
      "execution_count": 73,
      "outputs": [
        {
          "output_type": "stream",
          "text": [
            "CPU times: user 6.37 s, sys: 38.5 ms, total: 6.41 s\n",
            "Wall time: 1min 4s\n"
          ],
          "name": "stdout"
        },
        {
          "output_type": "execute_result",
          "data": {
            "text/plain": [
              "RandomizedSearchCV(cv=10, error_score=nan,\n",
              "                   estimator=SGDClassifier(alpha=0.0001, average=False,\n",
              "                                           class_weight=None,\n",
              "                                           early_stopping=False, epsilon=0.1,\n",
              "                                           eta0=0.0, fit_intercept=True,\n",
              "                                           l1_ratio=0.15,\n",
              "                                           learning_rate='optimal',\n",
              "                                           loss='hinge', max_iter=1000,\n",
              "                                           n_iter_no_change=5, n_jobs=None,\n",
              "                                           penalty='l2', power_t=0.5,\n",
              "                                           random_state=None, shuffle=True,\n",
              "                                           tol=0.001, validation_fraction=0.1,\n",
              "                                           verbose=0, warm_start=False),\n",
              "                   iid='deprecated', n_iter=10, n_jobs=-1,\n",
              "                   param_distributions={'loss': ['log', 'huber',\n",
              "                                                 'epsilon_insensitive',\n",
              "                                                 'squared_epsilon_insensitive'],\n",
              "                                        'max_iter': [10, 100, 250, 1000, 10000],\n",
              "                                        'penalty': ['l2', 'l1']},\n",
              "                   pre_dispatch='2*n_jobs', random_state=None, refit=True,\n",
              "                   return_train_score=False, scoring=None, verbose=0)"
            ]
          },
          "metadata": {
            "tags": []
          },
          "execution_count": 73
        }
      ]
    },
    {
      "cell_type": "code",
      "metadata": {
        "colab": {
          "base_uri": "https://localhost:8080/"
        },
        "id": "jcBHJivdXGYx",
        "outputId": "93d04568-6290-4264-d42e-e90a8ef0b52b"
      },
      "source": [
        "# best patamers of SGDClassifier after using RandomizedSearchCV\r\n",
        "random_reg.best_estimator_"
      ],
      "execution_count": 74,
      "outputs": [
        {
          "output_type": "execute_result",
          "data": {
            "text/plain": [
              "SGDClassifier(alpha=0.0001, average=False, class_weight=None,\n",
              "              early_stopping=False, epsilon=0.1, eta0=0.0, fit_intercept=True,\n",
              "              l1_ratio=0.15, learning_rate='optimal', loss='log', max_iter=1000,\n",
              "              n_iter_no_change=5, n_jobs=None, penalty='l1', power_t=0.5,\n",
              "              random_state=None, shuffle=True, tol=0.001,\n",
              "              validation_fraction=0.1, verbose=0, warm_start=False)"
            ]
          },
          "metadata": {
            "tags": []
          },
          "execution_count": 74
        }
      ]
    },
    {
      "cell_type": "code",
      "metadata": {
        "colab": {
          "base_uri": "https://localhost:8080/"
        },
        "id": "6GkWU4_PXGcf",
        "outputId": "fdb52f81-d69a-4a06-ae6a-77a3b68fdc64"
      },
      "source": [
        "# best score of SGDClassifier after using RandomizedSearchCV\r\n",
        "random_reg.best_score_\r\n"
      ],
      "execution_count": 75,
      "outputs": [
        {
          "output_type": "execute_result",
          "data": {
            "text/plain": [
              "0.8505619968700122"
            ]
          },
          "metadata": {
            "tags": []
          },
          "execution_count": 75
        }
      ]
    },
    {
      "cell_type": "markdown",
      "metadata": {
        "id": "7MsvrISI633t"
      },
      "source": [
        "## Check out the accuracy of SGDClassifier model after using RandomizedSearchCV optimization:"
      ]
    },
    {
      "cell_type": "code",
      "metadata": {
        "id": "qnEOf-0da1eS"
      },
      "source": [
        "sgdc = SGDClassifier(alpha=0.0001, average=False, class_weight=None,\r\n",
        "              early_stopping=False, epsilon=0.1, eta0=0.0, fit_intercept=True,\r\n",
        "              l1_ratio=0.15, learning_rate='optimal', loss='log', max_iter=100,\r\n",
        "              n_iter_no_change=5, n_jobs=None, penalty='l1', power_t=0.5,\r\n",
        "              random_state=None, shuffle=True, tol=0.001,\r\n",
        "              validation_fraction=0.1, verbose=0, warm_start=False)"
      ],
      "execution_count": 76,
      "outputs": []
    },
    {
      "cell_type": "code",
      "metadata": {
        "colab": {
          "base_uri": "https://localhost:8080/"
        },
        "id": "iCLr8v6ga1a4",
        "outputId": "8be97b70-a62e-47a4-8d59-e1b3e8333efc"
      },
      "source": [
        "#fit trainig set into SGDClassifier after using RandomizedSearchCV\r\n",
        "sgdc.fit(X_train, y_train)\r\n"
      ],
      "execution_count": 77,
      "outputs": [
        {
          "output_type": "stream",
          "text": [
            "/usr/local/lib/python3.6/dist-packages/sklearn/linear_model/_stochastic_gradient.py:557: ConvergenceWarning: Maximum number of iteration reached before convergence. Consider increasing max_iter to improve the fit.\n",
            "  ConvergenceWarning)\n"
          ],
          "name": "stderr"
        },
        {
          "output_type": "execute_result",
          "data": {
            "text/plain": [
              "SGDClassifier(alpha=0.0001, average=False, class_weight=None,\n",
              "              early_stopping=False, epsilon=0.1, eta0=0.0, fit_intercept=True,\n",
              "              l1_ratio=0.15, learning_rate='optimal', loss='log', max_iter=100,\n",
              "              n_iter_no_change=5, n_jobs=None, penalty='l1', power_t=0.5,\n",
              "              random_state=None, shuffle=True, tol=0.001,\n",
              "              validation_fraction=0.1, verbose=0, warm_start=False)"
            ]
          },
          "metadata": {
            "tags": []
          },
          "execution_count": 77
        }
      ]
    },
    {
      "cell_type": "code",
      "metadata": {
        "id": "phC5UCw6a1Vr"
      },
      "source": [
        "#prediction of x_test \r\n",
        "pred_sgdc = sgdc.predict(X_test)"
      ],
      "execution_count": 78,
      "outputs": []
    },
    {
      "cell_type": "code",
      "metadata": {
        "colab": {
          "base_uri": "https://localhost:8080/"
        },
        "id": "Dq5MoIMEa1SE",
        "outputId": "a5800347-fabd-40a0-c6f0-bc8925509237"
      },
      "source": [
        "#accuracy of Stochastic Gradient Descent\r\n",
        "print(\"Stochastic Gradient Descent Accuracy after using RandomizedSearchCV optimization is {:.2f}%\".format(accuracy_score(y_test, pred_sgdc)*100))"
      ],
      "execution_count": 79,
      "outputs": [
        {
          "output_type": "stream",
          "text": [
            "Stochastic Gradient Descent Accuracy after using RandomizedSearchCV optimization is 84.98%\n"
          ],
          "name": "stdout"
        }
      ]
    },
    {
      "cell_type": "markdown",
      "metadata": {
        "id": "21Fxr3J1bfum"
      },
      "source": [
        "## Stochastic Gradient Descent Optimization with GridSearchCV:"
      ]
    },
    {
      "cell_type": "code",
      "metadata": {
        "id": "s-lSgUGAKnEa",
        "colab": {
          "base_uri": "https://localhost:8080/"
        },
        "outputId": "983da993-403f-40ad-dce7-318b5486b334"
      },
      "source": [
        "from sklearn.model_selection import GridSearchCV\r\n",
        "#GridSearchCV optimization for Stochastic Gradient Descent model \r\n",
        "param_dict = {'loss': ['log', 'huber', 'epsilon_insensitive', 'squared_epsilon_insensitive'],\r\n",
        "              'max_iter': [1000, 10000]}\r\n",
        "\r\n",
        "grid_sgdc = GridSearchCV(sgdc, param_dict)\r\n",
        "grid_sgdc"
      ],
      "execution_count": 80,
      "outputs": [
        {
          "output_type": "execute_result",
          "data": {
            "text/plain": [
              "GridSearchCV(cv=None, error_score=nan,\n",
              "             estimator=SGDClassifier(alpha=0.0001, average=False,\n",
              "                                     class_weight=None, early_stopping=False,\n",
              "                                     epsilon=0.1, eta0=0.0, fit_intercept=True,\n",
              "                                     l1_ratio=0.15, learning_rate='optimal',\n",
              "                                     loss='log', max_iter=100,\n",
              "                                     n_iter_no_change=5, n_jobs=None,\n",
              "                                     penalty='l1', power_t=0.5,\n",
              "                                     random_state=None, shuffle=True, tol=0.001,\n",
              "                                     validation_fraction=0.1, verbose=0,\n",
              "                                     warm_start=False),\n",
              "             iid='deprecated', n_jobs=None,\n",
              "             param_grid={'loss': ['log', 'huber', 'epsilon_insensitive',\n",
              "                                  'squared_epsilon_insensitive'],\n",
              "                         'max_iter': [1000, 10000]},\n",
              "             pre_dispatch='2*n_jobs', refit=True, return_train_score=False,\n",
              "             scoring=None, verbose=0)"
            ]
          },
          "metadata": {
            "tags": []
          },
          "execution_count": 80
        }
      ]
    },
    {
      "cell_type": "code",
      "metadata": {
        "colab": {
          "base_uri": "https://localhost:8080/"
        },
        "id": "QitZGuu_a1Eq",
        "outputId": "10cf2505-84f2-4156-aa3c-bac63b3b9fea"
      },
      "source": [
        "#fit X_train and y_train into grid_search\r\n",
        "%%time\r\n",
        "grid_sgdc.fit(X_train, y_train)"
      ],
      "execution_count": 81,
      "outputs": [
        {
          "output_type": "stream",
          "text": [
            "CPU times: user 1min 20s, sys: 14.4 s, total: 1min 34s\n",
            "Wall time: 1min 18s\n"
          ],
          "name": "stdout"
        },
        {
          "output_type": "execute_result",
          "data": {
            "text/plain": [
              "GridSearchCV(cv=None, error_score=nan,\n",
              "             estimator=SGDClassifier(alpha=0.0001, average=False,\n",
              "                                     class_weight=None, early_stopping=False,\n",
              "                                     epsilon=0.1, eta0=0.0, fit_intercept=True,\n",
              "                                     l1_ratio=0.15, learning_rate='optimal',\n",
              "                                     loss='log', max_iter=100,\n",
              "                                     n_iter_no_change=5, n_jobs=None,\n",
              "                                     penalty='l1', power_t=0.5,\n",
              "                                     random_state=None, shuffle=True, tol=0.001,\n",
              "                                     validation_fraction=0.1, verbose=0,\n",
              "                                     warm_start=False),\n",
              "             iid='deprecated', n_jobs=None,\n",
              "             param_grid={'loss': ['log', 'huber', 'epsilon_insensitive',\n",
              "                                  'squared_epsilon_insensitive'],\n",
              "                         'max_iter': [1000, 10000]},\n",
              "             pre_dispatch='2*n_jobs', refit=True, return_train_score=False,\n",
              "             scoring=None, verbose=0)"
            ]
          },
          "metadata": {
            "tags": []
          },
          "execution_count": 81
        }
      ]
    },
    {
      "cell_type": "code",
      "metadata": {
        "colab": {
          "base_uri": "https://localhost:8080/"
        },
        "id": "blejLrkGb3iX",
        "outputId": "7fb81e59-8746-4089-c48f-b977c05acc38"
      },
      "source": [
        "#sgdc best parameters after the GridSearchCV optimization\r\n",
        "grid_sgdc.best_params_"
      ],
      "execution_count": 83,
      "outputs": [
        {
          "output_type": "execute_result",
          "data": {
            "text/plain": [
              "{'loss': 'log', 'max_iter': 10000}"
            ]
          },
          "metadata": {
            "tags": []
          },
          "execution_count": 83
        }
      ]
    },
    {
      "cell_type": "code",
      "metadata": {
        "colab": {
          "base_uri": "https://localhost:8080/"
        },
        "id": "Emi95etIb5c0",
        "outputId": "d33438b1-c6cf-4f04-8631-1e2dd79aa54a"
      },
      "source": [
        "#sgdc best score after the GridSearchCV optimization\r\n",
        "grid_sgdc.best_score_"
      ],
      "execution_count": 84,
      "outputs": [
        {
          "output_type": "execute_result",
          "data": {
            "text/plain": [
              "0.8497581821734881"
            ]
          },
          "metadata": {
            "tags": []
          },
          "execution_count": 84
        }
      ]
    },
    {
      "cell_type": "markdown",
      "metadata": {
        "id": "gYAWk0Hv9BsS"
      },
      "source": [
        "## Check out the accuracy of SGDClassifier model after using GridSearchCV optimization:"
      ]
    },
    {
      "cell_type": "code",
      "metadata": {
        "id": "wHMUPL2SeV7c"
      },
      "source": [
        "#SGDClassifier with best parameters after using GridSearchCV\r\n",
        "sgdc=SGDClassifier(loss= 'log', max_iter= 10000)"
      ],
      "execution_count": 85,
      "outputs": []
    },
    {
      "cell_type": "code",
      "metadata": {
        "colab": {
          "base_uri": "https://localhost:8080/"
        },
        "id": "pAavIsRzeIXu",
        "outputId": "6d123420-ac97-4104-ddac-d8ebb786ca0c"
      },
      "source": [
        "#fit training set into sgdc\r\n",
        "sgdc.fit(X_train, y_train)"
      ],
      "execution_count": 86,
      "outputs": [
        {
          "output_type": "execute_result",
          "data": {
            "text/plain": [
              "SGDClassifier(alpha=0.0001, average=False, class_weight=None,\n",
              "              early_stopping=False, epsilon=0.1, eta0=0.0, fit_intercept=True,\n",
              "              l1_ratio=0.15, learning_rate='optimal', loss='log',\n",
              "              max_iter=10000, n_iter_no_change=5, n_jobs=None, penalty='l2',\n",
              "              power_t=0.5, random_state=None, shuffle=True, tol=0.001,\n",
              "              validation_fraction=0.1, verbose=0, warm_start=False)"
            ]
          },
          "metadata": {
            "tags": []
          },
          "execution_count": 86
        }
      ]
    },
    {
      "cell_type": "code",
      "metadata": {
        "id": "hBSOT5WpeITr"
      },
      "source": [
        "#prediction of X_test\r\n",
        "pred_sgdc = sgdc.predict(X_test)"
      ],
      "execution_count": 87,
      "outputs": []
    },
    {
      "cell_type": "code",
      "metadata": {
        "colab": {
          "base_uri": "https://localhost:8080/"
        },
        "id": "m9sr7jYLeIPY",
        "outputId": "07e32ed9-483b-4a37-f215-9b06fb6a44ff"
      },
      "source": [
        "print(\"Stochastic Gradient Descent Accuracy after using GridSearchCV optimization is {:.2f}%\".format(accuracy_score(y_test, pred_sgdc)*100))"
      ],
      "execution_count": 88,
      "outputs": [
        {
          "output_type": "stream",
          "text": [
            "Stochastic Gradient Descent Accuracy after using GridSearchCV optimization is 84.52%\n"
          ],
          "name": "stdout"
        }
      ]
    },
    {
      "cell_type": "markdown",
      "metadata": {
        "id": "hJlPNrq2x-Ir"
      },
      "source": [
        "## 5. Baseline model:\r\n",
        "\r\n",
        "Baseline is a model that is both simple to set up and has a reasonable chance of providing decent results. Experimenting with them is usually quick and low cost, since implementations are widely available in popular packages.\r\n",
        "\r\n",
        "  "
      ]
    },
    {
      "cell_type": "code",
      "metadata": {
        "id": "1NxUQ4mOyP9d"
      },
      "source": [
        "# function baseline\r\n",
        "def baseline_model(n_predictions, value_to_predict):\r\n",
        "    \"\"\"\r\n",
        "    just predict a single value (e.g. mean) for everything\r\n",
        "    \"\"\"\r\n",
        "    # create array to save predictions\r\n",
        "    baseline_preds = []\r\n",
        "    # loop to add baseline predictions in array baseline_preds\r\n",
        "    for i in range(n_predictions):\r\n",
        "        baseline_preds.append(value_to_predict)\r\n",
        "    # return predictions\r\n",
        "    return pd.Series(baseline_preds)"
      ],
      "execution_count": 89,
      "outputs": []
    },
    {
      "cell_type": "code",
      "metadata": {
        "id": "YdOHZ--TyNSv",
        "colab": {
          "base_uri": "https://localhost:8080/"
        },
        "outputId": "a1ccff52-8a22-4d12-8a6f-361bbb739e67"
      },
      "source": [
        "n_predictions = len(y_test)  # how many predictions to make?\r\n",
        "baseline_value = y_train.value_counts().index[0]  # what value to predict? \r\n",
        "# make predictions baseline\r\n",
        "baseline_preds = baseline_model(n_predictions, baseline_value)\r\n",
        "baseline_preds"
      ],
      "execution_count": 90,
      "outputs": [
        {
          "output_type": "execute_result",
          "data": {
            "text/plain": [
              "0       1\n",
              "1       1\n",
              "2       1\n",
              "3       1\n",
              "4       1\n",
              "       ..\n",
              "9589    1\n",
              "9590    1\n",
              "9591    1\n",
              "9592    1\n",
              "9593    1\n",
              "Length: 9594, dtype: int64"
            ]
          },
          "metadata": {
            "tags": []
          },
          "execution_count": 90
        }
      ]
    },
    {
      "cell_type": "code",
      "metadata": {
        "id": "FT2N0D2C8CrI",
        "colab": {
          "base_uri": "https://localhost:8080/"
        },
        "outputId": "048ca190-20f7-48f1-b975-e00c6971146d"
      },
      "source": [
        "# baseline accuracy\r\n",
        "baseline_acc = accuracy_score(y_test, baseline_preds)\r\n",
        "print(\"Baseline Accuracy is {:.2f}%\".format(baseline_acc*100))"
      ],
      "execution_count": 91,
      "outputs": [
        {
          "output_type": "stream",
          "text": [
            "Baseline Accuracy is 75.97%\n"
          ],
          "name": "stdout"
        }
      ]
    },
    {
      "cell_type": "code",
      "metadata": {
        "id": "G4HqHJTS6RDF",
        "colab": {
          "base_uri": "https://localhost:8080/"
        },
        "outputId": "7352a5c8-69e4-4af2-ab56-fdd73c9f0bf1"
      },
      "source": [
        "# report for y_test and preds\r\n",
        "print(classification_report(y_test, pred_knn))"
      ],
      "execution_count": 92,
      "outputs": [
        {
          "output_type": "stream",
          "text": [
            "              precision    recall  f1-score   support\n",
            "\n",
            "           0       0.67      0.56      0.61      2305\n",
            "           1       0.87      0.91      0.89      7289\n",
            "\n",
            "    accuracy                           0.83      9594\n",
            "   macro avg       0.77      0.74      0.75      9594\n",
            "weighted avg       0.82      0.83      0.82      9594\n",
            "\n"
          ],
          "name": "stdout"
        }
      ]
    },
    {
      "cell_type": "code",
      "metadata": {
        "id": "iSZeBDGZc0MS"
      },
      "source": [
        ""
      ],
      "execution_count": null,
      "outputs": []
    },
    {
      "cell_type": "markdown",
      "metadata": {
        "id": "UGJbyeuXyN0f"
      },
      "source": [
        "5. Optimize your model\r\n",
        "    - [GridSearchCV](https://scikit-learn.org/stable/modules/generated/sklearn.model_selection.GridSearchCV.html)\r\n",
        "        - Bonus: [RandomizedSearchCV](https://scikit-learn.org/stable/modules/generated/sklearn.model_selection.RandomizedSearchCV.html)\r\n",
        "    - Compare your results to the baseline\r\n",
        "        - How did you do this? Why?\r\n",
        "    - If you don't beat the baseline, try improving your model or using a different model\r\n",
        "        - Were you able to beat the baseline? Why?"
      ]
    },
    {
      "cell_type": "markdown",
      "metadata": {
        "id": "4yxARQ9TS_yb"
      },
      "source": [
        "# Comparison between classification models accuracy:\r\n"
      ]
    },
    {
      "cell_type": "code",
      "metadata": {
        "id": "B9Z4gLcETcJ_"
      },
      "source": [
        "# create empty array\r\n",
        "models = []\r\n",
        "# add models in array\r\n",
        "models.append(('LogisticRegression', LogisticRegression()))\r\n",
        "models.append(('SGDClassifier', SGDClassifier()))\r\n",
        "models.append(('KNeighborsClassifier', KNeighborsClassifier()))"
      ],
      "execution_count": 94,
      "outputs": []
    },
    {
      "cell_type": "code",
      "metadata": {
        "colab": {
          "base_uri": "https://localhost:8080/"
        },
        "id": "Nehv-6FJTfWI",
        "outputId": "81f7ade4-39e3-4702-efb1-3629a0be5bac"
      },
      "source": [
        "# create 2 empty array to append results and names for models\r\n",
        "results = []\r\n",
        "names = []\r\n",
        "# determine type scoring\r\n",
        "scoring = 'accuracy'\r\n",
        "# loop to \r\n",
        "for name, model in models:\r\n",
        "  kfold = model_selection.KFold(n_splits=10, random_state=None)\r\n",
        "  cv_results = model_selection.cross_val_score(model, X_train, y_train, cv=kfold, scoring=scoring)\r\n",
        "  results.append(cv_results)\r\n",
        "  names.append(name)\r\n",
        "  msg = \"%s: %f (%f)\" % (name, cv_results.mean(), cv_results.std())\r\n",
        "  print(msg)"
      ],
      "execution_count": 95,
      "outputs": [
        {
          "output_type": "stream",
          "text": [
            "LogisticRegression: 0.852394 (0.008236)\n",
            "SGDClassifier: 0.841851 (0.008307)\n",
            "KNeighborsClassifier: 0.824517 (0.009114)\n"
          ],
          "name": "stdout"
        }
      ]
    },
    {
      "cell_type": "code",
      "metadata": {
        "colab": {
          "base_uri": "https://localhost:8080/",
          "height": 602
        },
        "id": "MeN_Uix3TfS9",
        "outputId": "cdbbc8e1-7c66-4dc7-e589-805e9f926388"
      },
      "source": [
        "# determine figure size\r\n",
        "fig = plt.figure(figsize=(12,9))\r\n",
        "# title\r\n",
        "fig.suptitle('Comparison between classification algorithms')\r\n",
        "ax = fig.add_subplot(111)\r\n",
        "# create boxplot\r\n",
        "plt.boxplot(results)\r\n",
        "ax.set_xticklabels(names)\r\n",
        "# show plot\r\n",
        "plt.show()"
      ],
      "execution_count": 97,
      "outputs": [
        {
          "output_type": "display_data",
          "data": {
            "image/png": "[encoded data removed]",
            "text/plain": [
              "<Figure size 864x648 with 1 Axes>"
            ]
          },
          "metadata": {
            "tags": [],
            "needs_background": "light"
          }
        }
      ]
    },
    {
      "cell_type": "markdown",
      "metadata": {
        "id": "Rm5nD4h-pFIg"
      },
      "source": [
        "## ROC and AUC for SGDClassifier, KNeighborsRegressor, and LogisticRegression ( SGDC, KNN, LR) :"
      ]
    },
    {
      "cell_type": "code",
      "metadata": {
        "id": "PJe97YR1obVn",
        "colab": {
          "base_uri": "https://localhost:8080/",
          "height": 406
        },
        "outputId": "82fbf408-268f-44a6-f9f2-d10a10614dae"
      },
      "source": [
        "# import libraries roc_curve and area under curve\r\n",
        "from sklearn.metrics import roc_curve, auc\r\n",
        "\r\n",
        "# calculate roc curve\r\n",
        "false_positive_rate_knn, true_positive_rate_knn, thresholds_knn = roc_curve(y_test, pred_knn)\r\n",
        "false_positive_rate_lr, true_positive_rate_lr, thresholds_lr = roc_curve(y_test, pred_lr)\r\n",
        "false_positive_rate_sgdc, true_positive_rate_sgdc, thresholds_sgdc = roc_curve(y_test, pred_sgdc)\r\n",
        "\r\n",
        "\r\n",
        "# calculate area under curve \r\n",
        "roc_auc_knn = auc(false_positive_rate_knn, true_positive_rate_knn)\r\n",
        "roc_auc_lr = auc(false_positive_rate_lr, true_positive_rate_lr)\r\n",
        "roc_auc_sgdc = auc(false_positive_rate_sgdc, true_positive_rate_sgdc)\r\n",
        "\r\n",
        "# figure size\r\n",
        "plt.figure(figsize=(10,6))\r\n",
        "# plot roc curve\r\n",
        "plt.plot(false_positive_rate_knn, true_positive_rate_knn, color='green', alpha=0.5, label='ROC curve (KNN AUC= %0.2f)' % roc_auc_knn)\r\n",
        "plt.plot(false_positive_rate_lr, true_positive_rate_lr, color='blue', alpha=0.5, label='ROC curve (LR AUC = %0.2f)' % roc_auc_lr)\r\n",
        "plt.plot(false_positive_rate_sgdc, true_positive_rate_sgdc, color='red', alpha=0.5, label='ROC curve (SGDC AUC = %0.2f)' % roc_auc_sgdc)\r\n",
        "\r\n",
        "\r\n",
        "# add labels\r\n",
        "plt.xlabel('False Positive Rate')\r\n",
        "plt.ylabel('True Positive Rate')\r\n",
        "\r\n",
        "# add title and specific location of legend\r\n",
        "plt.title('ROC Curve', fontsize=16)\r\n",
        "# show the plot\r\n",
        "plt.legend(loc=\"lower right\")\r\n",
        "plt.show()"
      ],
      "execution_count": 98,
      "outputs": [
        {
          "output_type": "display_data",
          "data": {
            "image/png": "[encoded data removed]",
            "text/plain": [
              "<Figure size 720x432 with 1 Axes>"
            ]
          },
          "metadata": {
            "tags": [],
            "needs_background": "light"
          }
        }
      ]
    },
    {
      "cell_type": "markdown",
      "metadata": {
        "id": "HPg7Utlhd4kj"
      },
      "source": [
        "\r\n",
        "\r\n",
        "# Conclusion:\r\n",
        "\r\n",
        "To conclude, we obtain `KNeighborsClassifier`, `LogisticRegression`, `SGDClassifier` recorded accuracy with `83.0%`, `85.03%`, and `84.52%`respectively after using `GridSearchCV` and `RandomizedSearchCV`. As we have seen above with no significant difference among them.\r\n",
        "\r\n",
        "To compare these models with the `Baseline`, we illustrate that. Baseline showed the lowest accuracy with `75.97%`.\r\n",
        "\r\n",
        "From the previous chart, the Area Under Curve (AUC) for `LogisticRegression` model LR is showing the best choice rather than `K-Nearest Neighbors` algorithm KNN."
      ]
    },
    {
      "cell_type": "markdown",
      "metadata": {
        "id": "YrkodJ9rQtRW"
      },
      "source": [
        "## Resources:\r\n",
        "* [K-Nearest Neighbors](https://www.analyticsvidhya.com/blog/2015/08/learning-concept-knn-algorithms-programming/)\r\n",
        "* [Logistic Regression](https://searchbusinessanalytics.techtarget.com/definition/logistic-regression)\r\n",
        "* [SGD Classifier](https://www.tutorialspoint.com/scikit_learn/scikit_learn_stochastic_gradient_descent.htm)\r\n",
        "* [Baseline](https://blog.insightdatascience.com/always-start-with-a-stupid-model-no-exceptions-3a22314b9aaa)\r\n",
        "* [GridSearchCV](https://www.mygreatlearning.com/blog/gridsearchcv/)\r\n",
        "* [RandomizedSearchCV](https://scikit-learn.org/0.16/modules/generated/sklearn.grid_search.RandomizedSearchCV.html)\r\n",
        "* [Difference between GridSearchCV and RandomizedSearchCV](https://www.linkedin.com/pulse/what-gridsearchcv-randomizedsearchcv-differences-between-cheruku)\r\n",
        "* [Comparing Machine Learning Methods](https://pythondata.com/comparing-machine-learning-methods/)"
      ]
    },
    {
      "cell_type": "markdown",
      "metadata": {
        "id": "KuerfjP7Rwju"
      },
      "source": [
        "**We tried some plot of KNN**"
      ]
    },
    {
      "cell_type": "code",
      "metadata": {
        "id": "YX73IYO6QvNM"
      },
      "source": [
        "#%%time\r\n",
        "# # creating list of K for KNN\r\n",
        "# k_list = list(range(1,50,2))\r\n",
        "# # creating list of cv scores\r\n",
        "# cv_scores = []\r\n",
        "\r\n",
        "# # perform 10-fold cross validation\r\n",
        " #for k in k_list:\r\n",
        "   #  knn = KNeighborsClassifier(n_neighbors=k)\r\n",
        "  #   scores = cross_val_score(knn, X_train, y_train, cv=10, scoring='accuracy')\r\n",
        "    # cv_scores.append(scores.mean())\r\n",
        "\r\n",
        "# # changing to misclassification error\r\n",
        "# MSE = [1 - x for x in cv_scores]\r\n",
        "\r\n",
        " #plt.figure()\r\n",
        " #plt.figure(figsize=(15,10))\r\n",
        " #plt.title('The optimal number of neighbors', fontsize=20, fontweight='bold')\r\n",
        " #plt.xlabel('Number of Neighbors K', fontsize=15)\r\n",
        " #plt.ylabel('Misclassification Error', fontsize=15)\r\n",
        " #sns.set_style(\"whitegrid\")\r\n",
        " #plt.plot(k_list, MSE)\r\n",
        "\r\n",
        " #plt.show();"
      ],
      "execution_count": null,
      "outputs": []
    },
    {
      "cell_type": "code",
      "metadata": {
        "id": "Ir_D2FVsRfoi"
      },
      "source": [
        "# error_rate = []\r\n",
        "# # Might take some time\r\n",
        "# for i in range(1,40):\r\n",
        "    \r\n",
        "#     knn = KNeighborsClassifier(n_neighbors=i)\r\n",
        "#     knn.fit(X_train,y_train)\r\n",
        "#     pred_i = knn.predict(X_test)\r\n",
        "#     error_rate.append(np.mean(pred_i != y_test))\r\n",
        "\r\n",
        "# plt.figure(figsize=(10,6))\r\n",
        "# plt.plot(range(1,40),error_rate,color='blue', linestyle='dashed', marker='o',\r\n",
        "#          markerfacecolor='red', markersize=10)\r\n",
        "# plt.title('Error Rate vs. K Value')\r\n",
        "# plt.xlabel('K')\r\n",
        "# plt.ylabel('Error Rate')"
      ],
      "execution_count": null,
      "outputs": []
    },
    {
      "cell_type": "markdown",
      "metadata": {
        "id": "yMDq31xeS6xg"
      },
      "source": [
        "**In this part, we tried to use GridSerach for finding best parameters, and it consumed a long time to run:**\r\n",
        "\r\n",
        "\r\n",
        "\r\n"
      ]
    },
    {
      "cell_type": "code",
      "metadata": {
        "id": "cJmrXsZ4SiAb"
      },
      "source": [
        "# #List Hyperparameters that we want to tune.\r\n",
        "# leaf_size = list(range(1,30))\r\n",
        "# n_neighbors = list(range(1,10))\r\n",
        "# p=[1,2]\r\n",
        "# #Convert to dictionary\r\n",
        "# hyperparameters = dict(leaf_size=leaf_size, n_neighbors=n_neighbors, p=p)\r\n",
        "# #Use GridSearch\r\n",
        "# clf = GridSearchCV(knn, hyperparameters, cv=10)\r\n",
        "# #Fit the model\r\n",
        "# best_model = clf.fit(X,y)\r\n",
        "# #Print The value of best Hyperparameters\r\n",
        "# print('Best leaf_size:', best_model.best_estimator_.get_params()['leaf_size'])\r\n",
        "# print('Best p:', best_model.best_estimator_.get_params()['p'])\r\n",
        "# print('Best n_neighbors:', best_model.best_estimator_.get_params()['n_neighbors'])"
      ],
      "execution_count": null,
      "outputs": []
    }
  ]
}